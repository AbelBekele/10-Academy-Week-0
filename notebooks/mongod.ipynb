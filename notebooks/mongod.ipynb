{
 "cells": [
  {
   "cell_type": "markdown",
   "id": "51f00fd715d6d40c",
   "metadata": {
    "collapsed": false,
    "jupyter": {
     "outputs_hidden": false
    }
   },
   "source": [
    "[Documentation](https://pymongo.readthedocs.io/en/stable/tutorial.html)\n"
   ]
  },
  {
   "cell_type": "code",
   "execution_count": 49,
   "id": "e643732fe0e2efd8",
   "metadata": {
    "ExecuteTime": {
     "end_time": "2023-11-27T09:22:10.063608059Z",
     "start_time": "2023-11-27T09:22:09.736035918Z"
    },
    "collapsed": false,
    "jupyter": {
     "outputs_hidden": false
    }
   },
   "outputs": [],
   "source": [
    "from pymongo import MongoClient\n",
    "\n",
    "\n",
    "class DB:\n",
    "    def __init__(self):\n",
    "        self.client = MongoClient(\"mongodb://localhost:27017\")\n",
    "        self.db = self.client[\"10Academy\"]\n",
    "\n",
    "    def list_collections(self):\n",
    "        # Returns collections inside the database\n",
    "        return self.db.list_collection_names()\n",
    "\n",
    "    def check_if_collection_exist(self, collection_name: str):\n",
    "        if not self.list_collections().__contains__(collection_name):\n",
    "            raise Exception(f\"Collection, {collection_name} not found.\")\n",
    "\n",
    "    def insert_to_collection(self, collection_name, data):\n",
    "        self.check_if_collection_exist(collection_name)\n",
    "        collection = self.db[collection_name]\n",
    "        return collection.insert_one(data)\n",
    "\n",
    "    def insert_many_to_collection(self, collection_name, data):\n",
    "        self.check_if_collection_exist(collection_name)\n",
    "        result = self.db[collection_name].insert_many(data)\n",
    "        return result.inserted_ids\n",
    "\n",
    "    def find_all(self, collection_name):\n",
    "        self.check_if_collection_exist(collection_name)\n",
    "        return self.db[collection_name].find()\n",
    "\n",
    "    def find(self, collection_name, key, value):\n",
    "        self.check_if_collection_exist(collection_name)\n",
    "        return self.db[collection_name].find({key: value})\n",
    "    \n",
    "    def find_by_id(self, collection_name, _id):\n",
    "        self.check_if_collection_exist(collection_name)\n",
    "        return self.db[collection_name].find\n",
    "\n",
    "    def find_one(self, collection_name, key, value):\n",
    "        self.check_if_collection_exist(collection_name)\n",
    "        return self.db[collection_name].find_one({key: value})\n"
   ]
  },
  {
   "cell_type": "code",
   "execution_count": 36,
   "id": "8c767a1c",
   "metadata": {},
   "outputs": [],
   "source": [
    "class DBWithSchema:\n",
    "    def __init__(self) -> None:\n",
    "        self.client = MongoClient(\"mongodb://localhost:27017/\")\n",
    "        self.db = self.client[\"10Academy1\"]\n",
    "\n",
    "        self.employee_validator = {\n",
    "            \"$jsonSchema\": {\n",
    "                \"bsonType\": \"object\",\n",
    "                \"required\": [\"name\", \"age\", \"company\"],\n",
    "                \"properties\": {\n",
    "                    \"name\": {\n",
    "                        \"bsonType\": \"string\",\n",
    "                        \"description\": \"must be a string and is required\"\n",
    "                    },\n",
    "                    \"age\": {\n",
    "                        \"bsonType\": \"number\",\n",
    "                        \"description\": \"must be an number and is required\"\n",
    "                    },\n",
    "                    \"company\": {\n",
    "                        \"bsonType\": \"objectId\",\n",
    "                        \"description\": \"must be an objectId and is required\"\n",
    "                    }\n",
    "                }\n",
    "            }\n",
    "        }\n",
    "        self.company_validator = {\n",
    "            \"$jsonSchema\": {\n",
    "                \"bsonType\": \"object\",\n",
    "                \"required\": [\"name\", \"country\", \"city\"],\n",
    "                \"properties\": {\n",
    "                    \"name\": {\n",
    "                        \"bsonType\": \"string\",\n",
    "                        \"description\": \"must be a string and is required\"\n",
    "                    },\n",
    "                    \"city\": {\n",
    "                        \"bsonType\": \"string\",\n",
    "                        \"description\": \"must be an string and is required\"\n",
    "                    },\n",
    "                    \"country\": {\n",
    "                        \"bsonType\": \"string\",\n",
    "                        \"description\": \"must be an string and is required\"\n",
    "                    }\n",
    "                }\n",
    "            }\n",
    "        }\n",
    "        try:\n",
    "            self.db.create_collection(\"employee\")\n",
    "            self.db.create_collection(\"company\")\n",
    "        except Exception as e:\n",
    "            print(e)\n",
    "\n",
    "        self.db.command(\"collMod\", \"employee\", validator=self.employee_validator)\n",
    "        self.db.command(\"collMod\", \"company\", validator=self.company_validator)\n",
    "\n",
    "    def list_collections(self):\n",
    "        return self.db.list_collection_names()\n",
    "    \n",
    "    def get_validation(self, collection_name: str) -> dict:\n",
    "        self.check_if_collection_exist(collection_name)\n",
    "        return self.db.get_collection(collection_name).options()\n",
    "    \n",
    "    def check_if_collection_exist(self, collection_name: str):\n",
    "        if not self.list_collections().__contains__(collection_name):\n",
    "            raise Exception(f\"Collection, {collection_name} not found.\")\n",
    "\n",
    "    def insert_to_collection(self, collection_name, data):\n",
    "        self.check_if_collection_exist(collection_name)\n",
    "        collection = self.db[collection_name]\n",
    "        return collection.insert_one(data)\n",
    "\n",
    "    def insert_many_to_collection(self, collection_name, data):\n",
    "        self.check_if_collection_exist(collection_name)\n",
    "        result = self.db[collection_name].insert_many(data)\n",
    "        return result.inserted_ids\n",
    "\n",
    "    def find_all(self, collection_name):\n",
    "        self.check_if_collection_exist(collection_name)\n",
    "        return self.db[collection_name].find()\n",
    "\n",
    "    def find(self, collection_name, key, value):\n",
    "        self.check_if_collection_exist(collection_name)\n",
    "        return self.db[collection_name].find({key: value})\n",
    "    \n",
    "    def find_by_id(self, collection_name, _id):\n",
    "        self.check_if_collection_exist(collection_name)\n",
    "        return self.db[collection_name].find\n",
    "\n",
    "    def find_one(self, collection_name, key, value):\n",
    "        self.check_if_collection_exist(collection_name)\n",
    "        return self.db[collection_name].find_one({key: value})\n",
    "    \n"
   ]
  },
  {
   "cell_type": "markdown",
   "id": "42edf846f8ff36b6",
   "metadata": {
    "collapsed": false,
    "jupyter": {
     "outputs_hidden": false
    }
   },
   "source": [
    "#### Initialize DB Class"
   ]
  },
  {
   "cell_type": "code",
   "execution_count": 42,
   "id": "initial_id",
   "metadata": {
    "ExecuteTime": {
     "end_time": "2023-11-27T09:22:10.102209282Z",
     "start_time": "2023-11-27T09:22:09.762921575Z"
    },
    "collapsed": false,
    "jupyter": {
     "outputs_hidden": false
    }
   },
   "outputs": [
    {
     "name": "stdout",
     "output_type": "stream",
     "text": [
      "collection employee already exists\n"
     ]
    }
   ],
   "source": [
    "db = DB()"
   ]
  },
  {
   "cell_type": "markdown",
   "id": "67a77c0aa2951381",
   "metadata": {
    "collapsed": false,
    "jupyter": {
     "outputs_hidden": false
    }
   },
   "source": [
    "#### Get list of collections"
   ]
  },
  {
   "cell_type": "code",
   "execution_count": 50,
   "id": "1943d67b90ef5345",
   "metadata": {
    "ExecuteTime": {
     "end_time": "2023-11-27T09:22:10.139918225Z",
     "start_time": "2023-11-27T09:22:09.771118477Z"
    },
    "collapsed": false,
    "jupyter": {
     "outputs_hidden": false
    }
   },
   "outputs": [
    {
     "data": {
      "text/plain": [
       "['employee', 'company']"
      ]
     },
     "execution_count": 50,
     "metadata": {},
     "output_type": "execute_result"
    }
   ],
   "source": [
    "db.list_collections()"
   ]
  },
  {
   "cell_type": "markdown",
   "id": "eff826746c1013d4",
   "metadata": {
    "collapsed": false,
    "jupyter": {
     "outputs_hidden": false
    }
   },
   "source": [
    "#### Insert record to collection"
   ]
  },
  {
   "cell_type": "code",
   "execution_count": 51,
   "id": "feda1ca67e1f08bf",
   "metadata": {
    "ExecuteTime": {
     "end_time": "2023-11-27T09:22:10.174968485Z",
     "start_time": "2023-11-27T09:22:09.840811255Z"
    },
    "collapsed": false,
    "jupyter": {
     "outputs_hidden": false
    }
   },
   "outputs": [
    {
     "ename": "WriteError",
     "evalue": "Document failed validation, full error: {'index': 0, 'code': 121, 'errmsg': 'Document failed validation', 'errInfo': {'failingDocumentId': ObjectId('65677da5a106cbb7effb8ac9'), 'details': {'operatorName': '$jsonSchema', 'schemaRulesNotSatisfied': [{'operatorName': 'required', 'specifiedAs': {'required': ['name', 'age', 'company']}, 'missingProperties': ['age', 'company']}]}}}",
     "output_type": "error",
     "traceback": [
      "\u001b[1;31m---------------------------------------------------------------------------\u001b[0m",
      "\u001b[1;31mWriteError\u001b[0m                                Traceback (most recent call last)",
      "Cell \u001b[1;32mIn[51], line 4\u001b[0m\n\u001b[0;32m      1\u001b[0m data \u001b[38;5;241m=\u001b[39m {\n\u001b[0;32m      2\u001b[0m     \u001b[38;5;124m\"\u001b[39m\u001b[38;5;124mname\u001b[39m\u001b[38;5;124m\"\u001b[39m: \u001b[38;5;124m\"\u001b[39m\u001b[38;5;124mJohn\u001b[39m\u001b[38;5;124m\"\u001b[39m\n\u001b[0;32m      3\u001b[0m }\n\u001b[1;32m----> 4\u001b[0m inserted_record \u001b[38;5;241m=\u001b[39m \u001b[43mdb\u001b[49m\u001b[38;5;241;43m.\u001b[39;49m\u001b[43minsert_to_collection\u001b[49m\u001b[43m(\u001b[49m\u001b[38;5;124;43m'\u001b[39;49m\u001b[38;5;124;43memployee\u001b[39;49m\u001b[38;5;124;43m'\u001b[39;49m\u001b[43m,\u001b[49m\u001b[43m \u001b[49m\u001b[43mdata\u001b[49m\u001b[43m)\u001b[49m\n\u001b[0;32m      5\u001b[0m \u001b[38;5;28mprint\u001b[39m(inserted_record\u001b[38;5;241m.\u001b[39minserted_id)\n",
      "Cell \u001b[1;32mIn[36], line 69\u001b[0m, in \u001b[0;36mDBWithSchema.insert_to_collection\u001b[1;34m(self, collection_name, data)\u001b[0m\n\u001b[0;32m     67\u001b[0m \u001b[38;5;28mself\u001b[39m\u001b[38;5;241m.\u001b[39mcheck_if_collection_exist(collection_name)\n\u001b[0;32m     68\u001b[0m collection \u001b[38;5;241m=\u001b[39m \u001b[38;5;28mself\u001b[39m\u001b[38;5;241m.\u001b[39mdb[collection_name]\n\u001b[1;32m---> 69\u001b[0m \u001b[38;5;28;01mreturn\u001b[39;00m \u001b[43mcollection\u001b[49m\u001b[38;5;241;43m.\u001b[39;49m\u001b[43minsert_one\u001b[49m\u001b[43m(\u001b[49m\u001b[43mdata\u001b[49m\u001b[43m)\u001b[49m\n",
      "File \u001b[1;32m~\\Documents\\10 Academy\\10-Academy-Week-0\\week0\\Lib\\site-packages\\pymongo\\collection.py:669\u001b[0m, in \u001b[0;36mCollection.insert_one\u001b[1;34m(self, document, bypass_document_validation, session, comment)\u001b[0m\n\u001b[0;32m    665\u001b[0m     document[\u001b[38;5;124m\"\u001b[39m\u001b[38;5;124m_id\u001b[39m\u001b[38;5;124m\"\u001b[39m] \u001b[38;5;241m=\u001b[39m ObjectId()  \u001b[38;5;66;03m# type: ignore[index]\u001b[39;00m\n\u001b[0;32m    667\u001b[0m write_concern \u001b[38;5;241m=\u001b[39m \u001b[38;5;28mself\u001b[39m\u001b[38;5;241m.\u001b[39m_write_concern_for(session)\n\u001b[0;32m    668\u001b[0m \u001b[38;5;28;01mreturn\u001b[39;00m InsertOneResult(\n\u001b[1;32m--> 669\u001b[0m     \u001b[38;5;28;43mself\u001b[39;49m\u001b[38;5;241;43m.\u001b[39;49m\u001b[43m_insert_one\u001b[49m\u001b[43m(\u001b[49m\n\u001b[0;32m    670\u001b[0m \u001b[43m        \u001b[49m\u001b[43mdocument\u001b[49m\u001b[43m,\u001b[49m\n\u001b[0;32m    671\u001b[0m \u001b[43m        \u001b[49m\u001b[43mordered\u001b[49m\u001b[38;5;241;43m=\u001b[39;49m\u001b[38;5;28;43;01mTrue\u001b[39;49;00m\u001b[43m,\u001b[49m\n\u001b[0;32m    672\u001b[0m \u001b[43m        \u001b[49m\u001b[43mwrite_concern\u001b[49m\u001b[38;5;241;43m=\u001b[39;49m\u001b[43mwrite_concern\u001b[49m\u001b[43m,\u001b[49m\n\u001b[0;32m    673\u001b[0m \u001b[43m        \u001b[49m\u001b[43mop_id\u001b[49m\u001b[38;5;241;43m=\u001b[39;49m\u001b[38;5;28;43;01mNone\u001b[39;49;00m\u001b[43m,\u001b[49m\n\u001b[0;32m    674\u001b[0m \u001b[43m        \u001b[49m\u001b[43mbypass_doc_val\u001b[49m\u001b[38;5;241;43m=\u001b[39;49m\u001b[43mbypass_document_validation\u001b[49m\u001b[43m,\u001b[49m\n\u001b[0;32m    675\u001b[0m \u001b[43m        \u001b[49m\u001b[43msession\u001b[49m\u001b[38;5;241;43m=\u001b[39;49m\u001b[43msession\u001b[49m\u001b[43m,\u001b[49m\n\u001b[0;32m    676\u001b[0m \u001b[43m        \u001b[49m\u001b[43mcomment\u001b[49m\u001b[38;5;241;43m=\u001b[39;49m\u001b[43mcomment\u001b[49m\u001b[43m,\u001b[49m\n\u001b[0;32m    677\u001b[0m \u001b[43m    \u001b[49m\u001b[43m)\u001b[49m,\n\u001b[0;32m    678\u001b[0m     write_concern\u001b[38;5;241m.\u001b[39macknowledged,\n\u001b[0;32m    679\u001b[0m )\n",
      "File \u001b[1;32m~\\Documents\\10 Academy\\10-Academy-Week-0\\week0\\Lib\\site-packages\\pymongo\\collection.py:609\u001b[0m, in \u001b[0;36mCollection._insert_one\u001b[1;34m(self, doc, ordered, write_concern, op_id, bypass_doc_val, session, comment)\u001b[0m\n\u001b[0;32m    597\u001b[0m     result \u001b[38;5;241m=\u001b[39m conn\u001b[38;5;241m.\u001b[39mcommand(\n\u001b[0;32m    598\u001b[0m         \u001b[38;5;28mself\u001b[39m\u001b[38;5;241m.\u001b[39m__database\u001b[38;5;241m.\u001b[39mname,\n\u001b[0;32m    599\u001b[0m         command,\n\u001b[1;32m   (...)\u001b[0m\n\u001b[0;32m    604\u001b[0m         retryable_write\u001b[38;5;241m=\u001b[39mretryable_write,\n\u001b[0;32m    605\u001b[0m     )\n\u001b[0;32m    607\u001b[0m     _check_write_command_response(result)\n\u001b[1;32m--> 609\u001b[0m \u001b[38;5;28;43mself\u001b[39;49m\u001b[38;5;241;43m.\u001b[39;49m\u001b[43m__database\u001b[49m\u001b[38;5;241;43m.\u001b[39;49m\u001b[43mclient\u001b[49m\u001b[38;5;241;43m.\u001b[39;49m\u001b[43m_retryable_write\u001b[49m\u001b[43m(\u001b[49m\u001b[43macknowledged\u001b[49m\u001b[43m,\u001b[49m\u001b[43m \u001b[49m\u001b[43m_insert_command\u001b[49m\u001b[43m,\u001b[49m\u001b[43m \u001b[49m\u001b[43msession\u001b[49m\u001b[43m)\u001b[49m\n\u001b[0;32m    611\u001b[0m \u001b[38;5;28;01mif\u001b[39;00m \u001b[38;5;129;01mnot\u001b[39;00m \u001b[38;5;28misinstance\u001b[39m(doc, RawBSONDocument):\n\u001b[0;32m    612\u001b[0m     \u001b[38;5;28;01mreturn\u001b[39;00m doc\u001b[38;5;241m.\u001b[39mget(\u001b[38;5;124m\"\u001b[39m\u001b[38;5;124m_id\u001b[39m\u001b[38;5;124m\"\u001b[39m)\n",
      "File \u001b[1;32m~\\Documents\\10 Academy\\10-Academy-Week-0\\week0\\Lib\\site-packages\\pymongo\\mongo_client.py:1523\u001b[0m, in \u001b[0;36mMongoClient._retryable_write\u001b[1;34m(self, retryable, func, session, bulk)\u001b[0m\n\u001b[0;32m   1509\u001b[0m \u001b[38;5;250m\u001b[39m\u001b[38;5;124;03m\"\"\"Execute an operation with consecutive retries if possible\u001b[39;00m\n\u001b[0;32m   1510\u001b[0m \n\u001b[0;32m   1511\u001b[0m \u001b[38;5;124;03mReturns func()'s return value on success. On error retries the same\u001b[39;00m\n\u001b[1;32m   (...)\u001b[0m\n\u001b[0;32m   1520\u001b[0m \u001b[38;5;124;03m  - `bulk`: bulk abstraction to execute operations in bulk, defaults to None\u001b[39;00m\n\u001b[0;32m   1521\u001b[0m \u001b[38;5;124;03m\"\"\"\u001b[39;00m\n\u001b[0;32m   1522\u001b[0m \u001b[38;5;28;01mwith\u001b[39;00m \u001b[38;5;28mself\u001b[39m\u001b[38;5;241m.\u001b[39m_tmp_session(session) \u001b[38;5;28;01mas\u001b[39;00m s:\n\u001b[1;32m-> 1523\u001b[0m     \u001b[38;5;28;01mreturn\u001b[39;00m \u001b[38;5;28;43mself\u001b[39;49m\u001b[38;5;241;43m.\u001b[39;49m\u001b[43m_retry_with_session\u001b[49m\u001b[43m(\u001b[49m\u001b[43mretryable\u001b[49m\u001b[43m,\u001b[49m\u001b[43m \u001b[49m\u001b[43mfunc\u001b[49m\u001b[43m,\u001b[49m\u001b[43m \u001b[49m\u001b[43ms\u001b[49m\u001b[43m,\u001b[49m\u001b[43m \u001b[49m\u001b[43mbulk\u001b[49m\u001b[43m)\u001b[49m\n",
      "File \u001b[1;32m~\\Documents\\10 Academy\\10-Academy-Week-0\\week0\\Lib\\site-packages\\pymongo\\mongo_client.py:1421\u001b[0m, in \u001b[0;36mMongoClient._retry_with_session\u001b[1;34m(self, retryable, func, session, bulk)\u001b[0m\n\u001b[0;32m   1416\u001b[0m \u001b[38;5;66;03m# Ensure that the options supports retry_writes and there is a valid session not in\u001b[39;00m\n\u001b[0;32m   1417\u001b[0m \u001b[38;5;66;03m# transaction, otherwise, we will not support retry behavior for this txn.\u001b[39;00m\n\u001b[0;32m   1418\u001b[0m retryable \u001b[38;5;241m=\u001b[39m \u001b[38;5;28mbool\u001b[39m(\n\u001b[0;32m   1419\u001b[0m     retryable \u001b[38;5;129;01mand\u001b[39;00m \u001b[38;5;28mself\u001b[39m\u001b[38;5;241m.\u001b[39moptions\u001b[38;5;241m.\u001b[39mretry_writes \u001b[38;5;129;01mand\u001b[39;00m session \u001b[38;5;129;01mand\u001b[39;00m \u001b[38;5;129;01mnot\u001b[39;00m session\u001b[38;5;241m.\u001b[39min_transaction\n\u001b[0;32m   1420\u001b[0m )\n\u001b[1;32m-> 1421\u001b[0m \u001b[38;5;28;01mreturn\u001b[39;00m \u001b[38;5;28;43mself\u001b[39;49m\u001b[38;5;241;43m.\u001b[39;49m\u001b[43m_retry_internal\u001b[49m\u001b[43m(\u001b[49m\n\u001b[0;32m   1422\u001b[0m \u001b[43m    \u001b[49m\u001b[43mfunc\u001b[49m\u001b[38;5;241;43m=\u001b[39;49m\u001b[43mfunc\u001b[49m\u001b[43m,\u001b[49m\n\u001b[0;32m   1423\u001b[0m \u001b[43m    \u001b[49m\u001b[43msession\u001b[49m\u001b[38;5;241;43m=\u001b[39;49m\u001b[43msession\u001b[49m\u001b[43m,\u001b[49m\n\u001b[0;32m   1424\u001b[0m \u001b[43m    \u001b[49m\u001b[43mbulk\u001b[49m\u001b[38;5;241;43m=\u001b[39;49m\u001b[43mbulk\u001b[49m\u001b[43m,\u001b[49m\n\u001b[0;32m   1425\u001b[0m \u001b[43m    \u001b[49m\u001b[43mretryable\u001b[49m\u001b[38;5;241;43m=\u001b[39;49m\u001b[43mretryable\u001b[49m\u001b[43m,\u001b[49m\n\u001b[0;32m   1426\u001b[0m \u001b[43m\u001b[49m\u001b[43m)\u001b[49m\n",
      "File \u001b[1;32m~\\Documents\\10 Academy\\10-Academy-Week-0\\week0\\Lib\\site-packages\\pymongo\\_csot.py:107\u001b[0m, in \u001b[0;36mapply.<locals>.csot_wrapper\u001b[1;34m(self, *args, **kwargs)\u001b[0m\n\u001b[0;32m    105\u001b[0m         \u001b[38;5;28;01mwith\u001b[39;00m _TimeoutContext(timeout):\n\u001b[0;32m    106\u001b[0m             \u001b[38;5;28;01mreturn\u001b[39;00m func(\u001b[38;5;28mself\u001b[39m, \u001b[38;5;241m*\u001b[39margs, \u001b[38;5;241m*\u001b[39m\u001b[38;5;241m*\u001b[39mkwargs)\n\u001b[1;32m--> 107\u001b[0m \u001b[38;5;28;01mreturn\u001b[39;00m \u001b[43mfunc\u001b[49m\u001b[43m(\u001b[49m\u001b[38;5;28;43mself\u001b[39;49m\u001b[43m,\u001b[49m\u001b[43m \u001b[49m\u001b[38;5;241;43m*\u001b[39;49m\u001b[43margs\u001b[49m\u001b[43m,\u001b[49m\u001b[43m \u001b[49m\u001b[38;5;241;43m*\u001b[39;49m\u001b[38;5;241;43m*\u001b[39;49m\u001b[43mkwargs\u001b[49m\u001b[43m)\u001b[49m\n",
      "File \u001b[1;32m~\\Documents\\10 Academy\\10-Academy-Week-0\\week0\\Lib\\site-packages\\pymongo\\mongo_client.py:1462\u001b[0m, in \u001b[0;36mMongoClient._retry_internal\u001b[1;34m(self, func, session, bulk, is_read, address, read_pref, retryable)\u001b[0m\n\u001b[0;32m   1428\u001b[0m \u001b[38;5;129m@_csot\u001b[39m\u001b[38;5;241m.\u001b[39mapply\n\u001b[0;32m   1429\u001b[0m \u001b[38;5;28;01mdef\u001b[39;00m \u001b[38;5;21m_retry_internal\u001b[39m(\n\u001b[0;32m   1430\u001b[0m     \u001b[38;5;28mself\u001b[39m,\n\u001b[1;32m   (...)\u001b[0m\n\u001b[0;32m   1437\u001b[0m     retryable: \u001b[38;5;28mbool\u001b[39m \u001b[38;5;241m=\u001b[39m \u001b[38;5;28;01mFalse\u001b[39;00m,\n\u001b[0;32m   1438\u001b[0m ) \u001b[38;5;241m-\u001b[39m\u001b[38;5;241m>\u001b[39m T:\n\u001b[0;32m   1439\u001b[0m \u001b[38;5;250m    \u001b[39m\u001b[38;5;124;03m\"\"\"Internal retryable helper for all client transactions.\u001b[39;00m\n\u001b[0;32m   1440\u001b[0m \n\u001b[0;32m   1441\u001b[0m \u001b[38;5;124;03m    :Parameters:\u001b[39;00m\n\u001b[1;32m   (...)\u001b[0m\n\u001b[0;32m   1451\u001b[0m \u001b[38;5;124;03m      Output of the calling func()\u001b[39;00m\n\u001b[0;32m   1452\u001b[0m \u001b[38;5;124;03m    \"\"\"\u001b[39;00m\n\u001b[0;32m   1453\u001b[0m     \u001b[38;5;28;01mreturn\u001b[39;00m \u001b[43m_ClientConnectionRetryable\u001b[49m\u001b[43m(\u001b[49m\n\u001b[0;32m   1454\u001b[0m \u001b[43m        \u001b[49m\u001b[43mmongo_client\u001b[49m\u001b[38;5;241;43m=\u001b[39;49m\u001b[38;5;28;43mself\u001b[39;49m\u001b[43m,\u001b[49m\n\u001b[0;32m   1455\u001b[0m \u001b[43m        \u001b[49m\u001b[43mfunc\u001b[49m\u001b[38;5;241;43m=\u001b[39;49m\u001b[43mfunc\u001b[49m\u001b[43m,\u001b[49m\n\u001b[0;32m   1456\u001b[0m \u001b[43m        \u001b[49m\u001b[43mbulk\u001b[49m\u001b[38;5;241;43m=\u001b[39;49m\u001b[43mbulk\u001b[49m\u001b[43m,\u001b[49m\n\u001b[0;32m   1457\u001b[0m \u001b[43m        \u001b[49m\u001b[43mis_read\u001b[49m\u001b[38;5;241;43m=\u001b[39;49m\u001b[43mis_read\u001b[49m\u001b[43m,\u001b[49m\n\u001b[0;32m   1458\u001b[0m \u001b[43m        \u001b[49m\u001b[43msession\u001b[49m\u001b[38;5;241;43m=\u001b[39;49m\u001b[43msession\u001b[49m\u001b[43m,\u001b[49m\n\u001b[0;32m   1459\u001b[0m \u001b[43m        \u001b[49m\u001b[43mread_pref\u001b[49m\u001b[38;5;241;43m=\u001b[39;49m\u001b[43mread_pref\u001b[49m\u001b[43m,\u001b[49m\n\u001b[0;32m   1460\u001b[0m \u001b[43m        \u001b[49m\u001b[43maddress\u001b[49m\u001b[38;5;241;43m=\u001b[39;49m\u001b[43maddress\u001b[49m\u001b[43m,\u001b[49m\n\u001b[0;32m   1461\u001b[0m \u001b[43m        \u001b[49m\u001b[43mretryable\u001b[49m\u001b[38;5;241;43m=\u001b[39;49m\u001b[43mretryable\u001b[49m\u001b[43m,\u001b[49m\n\u001b[1;32m-> 1462\u001b[0m \u001b[43m    \u001b[49m\u001b[43m)\u001b[49m\u001b[38;5;241;43m.\u001b[39;49m\u001b[43mrun\u001b[49m\u001b[43m(\u001b[49m\u001b[43m)\u001b[49m\n",
      "File \u001b[1;32m~\\Documents\\10 Academy\\10-Academy-Week-0\\week0\\Lib\\site-packages\\pymongo\\mongo_client.py:2315\u001b[0m, in \u001b[0;36m_ClientConnectionRetryable.run\u001b[1;34m(self)\u001b[0m\n\u001b[0;32m   2313\u001b[0m \u001b[38;5;28mself\u001b[39m\u001b[38;5;241m.\u001b[39m_check_last_error(check_csot\u001b[38;5;241m=\u001b[39m\u001b[38;5;28;01mTrue\u001b[39;00m)\n\u001b[0;32m   2314\u001b[0m \u001b[38;5;28;01mtry\u001b[39;00m:\n\u001b[1;32m-> 2315\u001b[0m     \u001b[38;5;28;01mreturn\u001b[39;00m \u001b[38;5;28mself\u001b[39m\u001b[38;5;241m.\u001b[39m_read() \u001b[38;5;28;01mif\u001b[39;00m \u001b[38;5;28mself\u001b[39m\u001b[38;5;241m.\u001b[39m_is_read \u001b[38;5;28;01melse\u001b[39;00m \u001b[38;5;28;43mself\u001b[39;49m\u001b[38;5;241;43m.\u001b[39;49m\u001b[43m_write\u001b[49m\u001b[43m(\u001b[49m\u001b[43m)\u001b[49m\n\u001b[0;32m   2316\u001b[0m \u001b[38;5;28;01mexcept\u001b[39;00m ServerSelectionTimeoutError:\n\u001b[0;32m   2317\u001b[0m     \u001b[38;5;66;03m# The application may think the write was never attempted\u001b[39;00m\n\u001b[0;32m   2318\u001b[0m     \u001b[38;5;66;03m# if we raise ServerSelectionTimeoutError on the retry\u001b[39;00m\n\u001b[0;32m   2319\u001b[0m     \u001b[38;5;66;03m# attempt. Raise the original exception instead.\u001b[39;00m\n\u001b[0;32m   2320\u001b[0m     \u001b[38;5;28mself\u001b[39m\u001b[38;5;241m.\u001b[39m_check_last_error()\n",
      "File \u001b[1;32m~\\Documents\\10 Academy\\10-Academy-Week-0\\week0\\Lib\\site-packages\\pymongo\\mongo_client.py:2423\u001b[0m, in \u001b[0;36m_ClientConnectionRetryable._write\u001b[1;34m(self)\u001b[0m\n\u001b[0;32m   2421\u001b[0m             \u001b[38;5;28mself\u001b[39m\u001b[38;5;241m.\u001b[39m_check_last_error()\n\u001b[0;32m   2422\u001b[0m             \u001b[38;5;28mself\u001b[39m\u001b[38;5;241m.\u001b[39m_retryable \u001b[38;5;241m=\u001b[39m \u001b[38;5;28;01mFalse\u001b[39;00m\n\u001b[1;32m-> 2423\u001b[0m         \u001b[38;5;28;01mreturn\u001b[39;00m \u001b[38;5;28;43mself\u001b[39;49m\u001b[38;5;241;43m.\u001b[39;49m\u001b[43m_func\u001b[49m\u001b[43m(\u001b[49m\u001b[38;5;28;43mself\u001b[39;49m\u001b[38;5;241;43m.\u001b[39;49m\u001b[43m_session\u001b[49m\u001b[43m,\u001b[49m\u001b[43m \u001b[49m\u001b[43mconn\u001b[49m\u001b[43m,\u001b[49m\u001b[43m \u001b[49m\u001b[38;5;28;43mself\u001b[39;49m\u001b[38;5;241;43m.\u001b[39;49m\u001b[43m_retryable\u001b[49m\u001b[43m)\u001b[49m  \u001b[38;5;66;03m# type: ignore\u001b[39;00m\n\u001b[0;32m   2424\u001b[0m \u001b[38;5;28;01mexcept\u001b[39;00m PyMongoError \u001b[38;5;28;01mas\u001b[39;00m exc:\n\u001b[0;32m   2425\u001b[0m     \u001b[38;5;28;01mif\u001b[39;00m \u001b[38;5;129;01mnot\u001b[39;00m \u001b[38;5;28mself\u001b[39m\u001b[38;5;241m.\u001b[39m_retryable:\n",
      "File \u001b[1;32m~\\Documents\\10 Academy\\10-Academy-Week-0\\week0\\Lib\\site-packages\\pymongo\\collection.py:607\u001b[0m, in \u001b[0;36mCollection._insert_one.<locals>._insert_command\u001b[1;34m(session, conn, retryable_write)\u001b[0m\n\u001b[0;32m    595\u001b[0m     command[\u001b[38;5;124m\"\u001b[39m\u001b[38;5;124mbypassDocumentValidation\u001b[39m\u001b[38;5;124m\"\u001b[39m] \u001b[38;5;241m=\u001b[39m \u001b[38;5;28;01mTrue\u001b[39;00m\n\u001b[0;32m    597\u001b[0m result \u001b[38;5;241m=\u001b[39m conn\u001b[38;5;241m.\u001b[39mcommand(\n\u001b[0;32m    598\u001b[0m     \u001b[38;5;28mself\u001b[39m\u001b[38;5;241m.\u001b[39m__database\u001b[38;5;241m.\u001b[39mname,\n\u001b[0;32m    599\u001b[0m     command,\n\u001b[1;32m   (...)\u001b[0m\n\u001b[0;32m    604\u001b[0m     retryable_write\u001b[38;5;241m=\u001b[39mretryable_write,\n\u001b[0;32m    605\u001b[0m )\n\u001b[1;32m--> 607\u001b[0m \u001b[43m_check_write_command_response\u001b[49m\u001b[43m(\u001b[49m\u001b[43mresult\u001b[49m\u001b[43m)\u001b[49m\n",
      "File \u001b[1;32m~\\Documents\\10 Academy\\10-Academy-Week-0\\week0\\Lib\\site-packages\\pymongo\\helpers.py:266\u001b[0m, in \u001b[0;36m_check_write_command_response\u001b[1;34m(result)\u001b[0m\n\u001b[0;32m    264\u001b[0m write_errors \u001b[38;5;241m=\u001b[39m result\u001b[38;5;241m.\u001b[39mget(\u001b[38;5;124m\"\u001b[39m\u001b[38;5;124mwriteErrors\u001b[39m\u001b[38;5;124m\"\u001b[39m)\n\u001b[0;32m    265\u001b[0m \u001b[38;5;28;01mif\u001b[39;00m write_errors:\n\u001b[1;32m--> 266\u001b[0m     \u001b[43m_raise_last_write_error\u001b[49m\u001b[43m(\u001b[49m\u001b[43mwrite_errors\u001b[49m\u001b[43m)\u001b[49m\n\u001b[0;32m    268\u001b[0m wce \u001b[38;5;241m=\u001b[39m _get_wce_doc(result)\n\u001b[0;32m    269\u001b[0m \u001b[38;5;28;01mif\u001b[39;00m wce:\n",
      "File \u001b[1;32m~\\Documents\\10 Academy\\10-Academy-Week-0\\week0\\Lib\\site-packages\\pymongo\\helpers.py:239\u001b[0m, in \u001b[0;36m_raise_last_write_error\u001b[1;34m(write_errors)\u001b[0m\n\u001b[0;32m    237\u001b[0m \u001b[38;5;28;01mif\u001b[39;00m error\u001b[38;5;241m.\u001b[39mget(\u001b[38;5;124m\"\u001b[39m\u001b[38;5;124mcode\u001b[39m\u001b[38;5;124m\"\u001b[39m) \u001b[38;5;241m==\u001b[39m \u001b[38;5;241m11000\u001b[39m:\n\u001b[0;32m    238\u001b[0m     \u001b[38;5;28;01mraise\u001b[39;00m DuplicateKeyError(error\u001b[38;5;241m.\u001b[39mget(\u001b[38;5;124m\"\u001b[39m\u001b[38;5;124merrmsg\u001b[39m\u001b[38;5;124m\"\u001b[39m), \u001b[38;5;241m11000\u001b[39m, error)\n\u001b[1;32m--> 239\u001b[0m \u001b[38;5;28;01mraise\u001b[39;00m WriteError(error\u001b[38;5;241m.\u001b[39mget(\u001b[38;5;124m\"\u001b[39m\u001b[38;5;124merrmsg\u001b[39m\u001b[38;5;124m\"\u001b[39m), error\u001b[38;5;241m.\u001b[39mget(\u001b[38;5;124m\"\u001b[39m\u001b[38;5;124mcode\u001b[39m\u001b[38;5;124m\"\u001b[39m), error)\n",
      "\u001b[1;31mWriteError\u001b[0m: Document failed validation, full error: {'index': 0, 'code': 121, 'errmsg': 'Document failed validation', 'errInfo': {'failingDocumentId': ObjectId('65677da5a106cbb7effb8ac9'), 'details': {'operatorName': '$jsonSchema', 'schemaRulesNotSatisfied': [{'operatorName': 'required', 'specifiedAs': {'required': ['name', 'age', 'company']}, 'missingProperties': ['age', 'company']}]}}}"
     ]
    }
   ],
   "source": [
    "data = {\n",
    "    \"name\": \"John\"\n",
    "}\n",
    "inserted_record = db.insert_to_collection('employee', data)\n",
    "print(inserted_record.inserted_id)\n"
   ]
  },
  {
   "cell_type": "markdown",
   "id": "a758e8de3c6b4947",
   "metadata": {
    "collapsed": false,
    "jupyter": {
     "outputs_hidden": false
    }
   },
   "source": [
    "#### Insert more than record to collection"
   ]
  },
  {
   "cell_type": "code",
   "execution_count": null,
   "id": "e1613dd98803f815",
   "metadata": {
    "ExecuteTime": {
     "end_time": "2023-11-27T09:22:10.210845641Z",
     "start_time": "2023-11-27T09:22:09.841239357Z"
    },
    "collapsed": false,
    "jupyter": {
     "outputs_hidden": false
    }
   },
   "outputs": [],
   "source": [
    "data = [{\n",
    "    \"name\": \"Tom\"\n",
    "},\n",
    "    {\n",
    "        \"name\": \"Jane\",\n",
    "        \"age\": 33\n",
    "}\n",
    "]\n",
    "inserted_records = db.insert_many_to_collection('users', data)\n",
    "print(inserted_records)"
   ]
  },
  {
   "cell_type": "markdown",
   "id": "e902fb63fe9eca24",
   "metadata": {
    "collapsed": false,
    "jupyter": {
     "outputs_hidden": false
    }
   },
   "source": [
    "#### Find All records from collection "
   ]
  },
  {
   "cell_type": "code",
   "execution_count": null,
   "id": "cddcaee42da38732",
   "metadata": {
    "ExecuteTime": {
     "end_time": "2023-11-27T09:22:10.211491539Z",
     "start_time": "2023-11-27T09:22:09.863917702Z"
    },
    "collapsed": false,
    "jupyter": {
     "outputs_hidden": false
    }
   },
   "outputs": [],
   "source": [
    "import pprint\n",
    "\n",
    "records = db.find_all('users')\n",
    "for record in records:\n",
    "    pprint.pprint(record)"
   ]
  },
  {
   "cell_type": "markdown",
   "id": "f7f5cb0be2c22957",
   "metadata": {
    "collapsed": false,
    "jupyter": {
     "outputs_hidden": false
    }
   },
   "source": [
    "#### Filter record from collection"
   ]
  },
  {
   "cell_type": "code",
   "execution_count": null,
   "id": "af345ea0ccb0bbfd",
   "metadata": {
    "ExecuteTime": {
     "end_time": "2023-11-27T09:22:10.215331714Z",
     "start_time": "2023-11-27T09:22:09.908992355Z"
    },
    "collapsed": false,
    "jupyter": {
     "outputs_hidden": false
    }
   },
   "outputs": [],
   "source": [
    "results = db.find('users', 'name', 'Jane')\n",
    "for result in results:\n",
    "    pprint.pprint(result)"
   ]
  },
  {
   "cell_type": "code",
   "execution_count": null,
   "id": "974526cb5e1ea0c4",
   "metadata": {
    "ExecuteTime": {
     "end_time": "2023-11-27T09:22:10.235289519Z",
     "start_time": "2023-11-27T09:22:09.909276711Z"
    },
    "collapsed": false,
    "jupyter": {
     "outputs_hidden": false
    }
   },
   "outputs": [],
   "source": [
    "results = db.find('users', 'name', 'Rix')\n",
    "for result in results:\n",
    "    pprint.pprint(result)"
   ]
  },
  {
   "cell_type": "markdown",
   "id": "43a0d42c731246ea",
   "metadata": {
    "collapsed": false,
    "jupyter": {
     "outputs_hidden": false
    }
   },
   "source": [
    "#### Find one from collection"
   ]
  },
  {
   "cell_type": "code",
   "execution_count": null,
   "id": "6e65a86719e4dd5d",
   "metadata": {
    "ExecuteTime": {
     "end_time": "2023-11-27T09:23:09.020008428Z",
     "start_time": "2023-11-27T09:23:08.994515406Z"
    },
    "collapsed": false,
    "jupyter": {
     "outputs_hidden": false
    }
   },
   "outputs": [],
   "source": [
    "result = db.find_one('users', 'name', 'Jane')\n",
    "pprint.pprint(result)"
   ]
  },
  {
   "cell_type": "markdown",
   "id": "37a9ad04",
   "metadata": {},
   "source": [
    "#### Initialize DBWithSchemaClass"
   ]
  },
  {
   "cell_type": "code",
   "execution_count": 52,
   "id": "a44faa0420149106",
   "metadata": {
    "collapsed": false,
    "jupyter": {
     "outputs_hidden": false
    }
   },
   "outputs": [
    {
     "name": "stdout",
     "output_type": "stream",
     "text": [
      "collection employee already exists\n"
     ]
    }
   ],
   "source": [
    "db_with_schema = DBWithSchema()"
   ]
  },
  {
   "cell_type": "markdown",
   "id": "076a3b3c",
   "metadata": {},
   "source": [
    "#### View validators"
   ]
  },
  {
   "cell_type": "code",
   "execution_count": 53,
   "id": "d4f5c537",
   "metadata": {},
   "outputs": [
    {
     "name": "stdout",
     "output_type": "stream",
     "text": [
      "{'validationAction': 'error',\n",
      " 'validationLevel': 'strict',\n",
      " 'validator': {'$jsonSchema': {'bsonType': 'object',\n",
      "                               'properties': {'city': {'bsonType': 'string',\n",
      "                                                       'description': 'must be '\n",
      "                                                                      'an '\n",
      "                                                                      'string '\n",
      "                                                                      'and is '\n",
      "                                                                      'required'},\n",
      "                                              'country': {'bsonType': 'string',\n",
      "                                                          'description': 'must '\n",
      "                                                                         'be '\n",
      "                                                                         'an '\n",
      "                                                                         'string '\n",
      "                                                                         'and '\n",
      "                                                                         'is '\n",
      "                                                                         'required'},\n",
      "                                              'name': {'bsonType': 'string',\n",
      "                                                       'description': 'must be '\n",
      "                                                                      'a '\n",
      "                                                                      'string '\n",
      "                                                                      'and is '\n",
      "                                                                      'required'}},\n",
      "                               'required': ['name', 'country', 'city']}}}\n"
     ]
    }
   ],
   "source": [
    "import pprint\n",
    "company_validator = db_with_schema.get_validation('company')\n",
    "pprint.pprint(company_validator)"
   ]
  },
  {
   "cell_type": "code",
   "execution_count": 54,
   "id": "cc3e1f07",
   "metadata": {},
   "outputs": [
    {
     "name": "stdout",
     "output_type": "stream",
     "text": [
      "{'validationAction': 'error',\n",
      " 'validationLevel': 'strict',\n",
      " 'validator': {'$jsonSchema': {'bsonType': 'object',\n",
      "                               'properties': {'age': {'bsonType': 'number',\n",
      "                                                      'description': 'must be '\n",
      "                                                                     'an '\n",
      "                                                                     'number '\n",
      "                                                                     'and is '\n",
      "                                                                     'required'},\n",
      "                                              'company': {'bsonType': 'objectId',\n",
      "                                                          'description': 'must '\n",
      "                                                                         'be '\n",
      "                                                                         'an '\n",
      "                                                                         'objectId '\n",
      "                                                                         'and '\n",
      "                                                                         'is '\n",
      "                                                                         'required'},\n",
      "                                              'name': {'bsonType': 'string',\n",
      "                                                       'description': 'must be '\n",
      "                                                                      'a '\n",
      "                                                                      'string '\n",
      "                                                                      'and is '\n",
      "                                                                      'required'}},\n",
      "                               'required': ['name', 'age', 'company']}}}\n"
     ]
    }
   ],
   "source": [
    "employee_validator = db_with_schema.get_validation('employee')\n",
    "pprint.pprint(employee_validator)"
   ]
  },
  {
   "cell_type": "markdown",
   "id": "59dc048c",
   "metadata": {},
   "source": [
    "#### Create Company"
   ]
  },
  {
   "cell_type": "code",
   "execution_count": 55,
   "id": "3240bb1a",
   "metadata": {},
   "outputs": [
    {
     "name": "stdout",
     "output_type": "stream",
     "text": [
      "[ObjectId('65677ddaa106cbb7effb8acb'), ObjectId('65677ddaa106cbb7effb8acc')]\n"
     ]
    }
   ],
   "source": [
    "company_data = [\n",
    "  {\n",
    "    \"name\": \"Mercedes-Benz\",\n",
    "    \"city\": \"Stuttgart\",\n",
    "    \"country\": \"Germany\"\n",
    "  },\n",
    "  {\n",
    "    \"name\": \"Chevrolet\",\n",
    "    \"city\": \"Detroit\",\n",
    "    \"country\": \"United States\"\n",
    "  }\n",
    "]\n",
    "inserted_records = db_with_schema.insert_many_to_collection('company', company_data)\n",
    "print(inserted_records)"
   ]
  },
  {
   "cell_type": "code",
   "execution_count": 56,
   "id": "22bedf96",
   "metadata": {},
   "outputs": [
    {
     "name": "stdout",
     "output_type": "stream",
     "text": [
      "[ObjectId('65677ddba106cbb7effb8acd'), ObjectId('65677ddba106cbb7effb8ace'), ObjectId('65677ddba106cbb7effb8acf'), ObjectId('65677ddba106cbb7effb8ad0')]\n"
     ]
    }
   ],
   "source": [
    "employee_data = [\n",
    "  {\n",
    "    \"name\": \"Jane\",\n",
    "    \"age\": 24,\n",
    "    \"company\": inserted_records[0]\n",
    "  },\n",
    "  {\n",
    "    \"name\": \"John\",\n",
    "    \"age\": 26,\n",
    "    \"company\": inserted_records[1]\n",
    "  },\n",
    "  {\n",
    "    \"name\": \"Amy\",\n",
    "    \"age\": 23,\n",
    "    \"company\": inserted_records[1]\n",
    "  },\n",
    "  {\n",
    "    \"name\": \"Jack\",\n",
    "    \"age\": 22,\n",
    "    \"company\": inserted_records[0]\n",
    "  },\n",
    "]\n",
    "inserted_employees = db_with_schema.insert_many_to_collection('employee', employee_data)\n",
    "print(inserted_employees)"
   ]
  },
  {
   "cell_type": "markdown",
   "id": "4d71c56b",
   "metadata": {},
   "source": [
    "#### Select all Employees"
   ]
  },
  {
   "cell_type": "code",
   "execution_count": 57,
   "id": "76099a40",
   "metadata": {},
   "outputs": [
    {
     "name": "stdout",
     "output_type": "stream",
     "text": [
      "{'_id': ObjectId('65677ddba106cbb7effb8acd'),\n",
      " 'age': 24,\n",
      " 'company': ObjectId('65677ddaa106cbb7effb8acb'),\n",
      " 'name': 'Jane'}\n",
      "{'_id': ObjectId('65677ddba106cbb7effb8ace'),\n",
      " 'age': 26,\n",
      " 'company': ObjectId('65677ddaa106cbb7effb8acc'),\n",
      " 'name': 'John'}\n",
      "{'_id': ObjectId('65677ddba106cbb7effb8acf'),\n",
      " 'age': 23,\n",
      " 'company': ObjectId('65677ddaa106cbb7effb8acc'),\n",
      " 'name': 'Amy'}\n",
      "{'_id': ObjectId('65677ddba106cbb7effb8ad0'),\n",
      " 'age': 22,\n",
      " 'company': ObjectId('65677ddaa106cbb7effb8acb'),\n",
      " 'name': 'Jack'}\n"
     ]
    }
   ],
   "source": [
    "import pprint\n",
    "\n",
    "employees = db_with_schema.find_all('employee')\n",
    "for employee in employees:\n",
    "    pprint.pprint(employee)"
   ]
  },
  {
   "cell_type": "markdown",
   "id": "85c56722",
   "metadata": {},
   "source": [
    "#### Look UP"
   ]
  },
  {
   "cell_type": "code",
   "execution_count": 58,
   "id": "cf62050e",
   "metadata": {},
   "outputs": [
    {
     "name": "stdout",
     "output_type": "stream",
     "text": [
      "{'_id': ObjectId('65677ddaa106cbb7effb8acb'),\n",
      " 'city': 'Stuttgart',\n",
      " 'country': 'Germany',\n",
      " 'employees': [{'_id': ObjectId('65677ddba106cbb7effb8acd'),\n",
      "                'age': 24,\n",
      "                'company': ObjectId('65677ddaa106cbb7effb8acb'),\n",
      "                'name': 'Jane'},\n",
      "               {'_id': ObjectId('65677ddba106cbb7effb8ad0'),\n",
      "                'age': 22,\n",
      "                'company': ObjectId('65677ddaa106cbb7effb8acb'),\n",
      "                'name': 'Jack'}],\n",
      " 'name': 'Mercedes-Benz'}\n",
      "{'_id': ObjectId('65677ddaa106cbb7effb8acc'),\n",
      " 'city': 'Detroit',\n",
      " 'country': 'United States',\n",
      " 'employees': [{'_id': ObjectId('65677ddba106cbb7effb8ace'),\n",
      "                'age': 26,\n",
      "                'company': ObjectId('65677ddaa106cbb7effb8acc'),\n",
      "                'name': 'John'},\n",
      "               {'_id': ObjectId('65677ddba106cbb7effb8acf'),\n",
      "                'age': 23,\n",
      "                'company': ObjectId('65677ddaa106cbb7effb8acc'),\n",
      "                'name': 'Amy'}],\n",
      " 'name': 'Chevrolet'}\n"
     ]
    }
   ],
   "source": [
    "lookup = [\n",
    "    {\n",
    "        \"$lookup\": {\n",
    "            \"from\": \"employee\",\n",
    "            \"localField\": \"_id\",\n",
    "            \"foreignField\": \"company\",\n",
    "            \"as\": \"employees\"\n",
    "        }\n",
    "    }\n",
    "]\n",
    "employees_with_company = db_with_schema.db.company.aggregate(lookup)\n",
    "employees_list = list(employees_with_company)\n",
    "for employee in employees_list:\n",
    "    pprint.pprint(employee)"
   ]
  },
  {
   "cell_type": "code",
   "execution_count": null,
   "id": "d5ee3446",
   "metadata": {},
   "outputs": [],
   "source": []
  }
 ],
 "metadata": {
  "kernelspec": {
   "display_name": "Python 3 (ipykernel)",
   "language": "python",
   "name": "python3"
  },
  "language_info": {
   "codemirror_mode": {
    "name": "ipython",
    "version": 3
   },
   "file_extension": ".py",
   "mimetype": "text/x-python",
   "name": "python",
   "nbconvert_exporter": "python",
   "pygments_lexer": "ipython3",
   "version": "3.11.0"
  }
 },
 "nbformat": 4,
 "nbformat_minor": 5
}
