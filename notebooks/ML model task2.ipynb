{
 "cells": [
  {
   "cell_type": "code",
   "execution_count": 1,
   "id": "69c688ee-241e-4e90-8f10-11c0a332af85",
   "metadata": {},
   "outputs": [],
   "source": [
    "import os\n",
    "import sys\n",
    "import re\n",
    "import json\n",
    "import glob\n",
    "import datetime\n",
    "from collections import Counter\n",
    "\n",
    "import pandas as pd\n",
    "from matplotlib import pyplot as plt\n",
    "import seaborn as sns\n",
    "\n",
    "from nltk.corpus import stopwords\n",
    "from wordcloud import WordCloud\n",
    "from datetime import datetime, timedelta\n",
    "\n",
    "import re\n",
    "import nltk\n",
    "from nltk.tokenize import word_tokenize\n",
    "from nltk.corpus import stopwords\n",
    "from nltk.stem import PorterStemmer\n",
    "import mlflow\n",
    "import mlflow.sklearn\n",
    "import joblib"
   ]
  },
  {
   "cell_type": "code",
   "execution_count": 2,
   "id": "33bb6f1b-6d66-466f-a3a0-58be0a42adef",
   "metadata": {},
   "outputs": [],
   "source": [
    "os.chdir('..') "
   ]
  },
  {
   "cell_type": "code",
   "execution_count": 3,
   "id": "530c3784-337d-4c3c-be49-f3f4de314aac",
   "metadata": {},
   "outputs": [
    {
     "name": "stdout",
     "output_type": "stream",
     "text": [
      "Output File: slack_data.csv\n",
      "Path: data\\Anonymized_B6SlackExport_25Nov23\\anonymized\n",
      "Channel: data\\Anonymized_B6SlackExport_25Nov23\\anonymized\\channels.json\n",
      "Userfile: data\\Anonymized_B6SlackExport_25Nov23\\anonymized\\users.json\n"
     ]
    }
   ],
   "source": [
    "from src.loader import SlackDataLoader\n",
    "from src.config import cfg\n",
    "import src.utils as utils"
   ]
  },
  {
   "cell_type": "code",
   "execution_count": 4,
   "id": "a5361844-4cbb-47d4-b670-a403cb7565ce",
   "metadata": {},
   "outputs": [],
   "source": [
    "import sklearn\n",
    "from sklearn.model_selection import train_test_split\n",
    "from sklearn.feature_extraction.text import CountVectorizer\n",
    "from sklearn.naive_bayes import MultinomialNB\n",
    "from sklearn.metrics import accuracy_score, classification_report\n",
    "from sklearn.decomposition import LatentDirichletAllocation\n",
    "from nltk.sentiment.vader import SentimentIntensityAnalyzer"
   ]
  },
  {
   "cell_type": "code",
   "execution_count": 5,
   "id": "893caf00-25b6-4893-a19b-bed688966979",
   "metadata": {},
   "outputs": [],
   "source": [
    "slack_data_loader = SlackDataLoader(cfg.path)\n",
    "user_names_by_id, user_ids_by_name = slack_data_loader.get_user_map()"
   ]
  },
  {
   "cell_type": "code",
   "execution_count": 6,
   "id": "d8115318-bc5b-4e18-a26f-c8dfe70f9a58",
   "metadata": {},
   "outputs": [],
   "source": [
    "all_channel_messages = []\n",
    "\n",
    "for channel in slack_data_loader.channels:\n",
    "    channel_name = channel['name']\n",
    "    channel_messages = slack_data_loader.get_channel_messages(channel_name)\n",
    "\n",
    "    # Add 'channel' information to each message\n",
    "    for message in channel_messages:\n",
    "        message['channel'] = channel_name\n",
    "\n",
    "    all_channel_messages.extend(channel_messages)"
   ]
  },
  {
   "cell_type": "code",
   "execution_count": 7,
   "id": "032f301c-f943-431e-aaa4-2f65158c682e",
   "metadata": {},
   "outputs": [],
   "source": [
    "# Convert the list of messages into a DataFrame\n",
    "slack_data_df = pd.DataFrame(all_channel_messages)"
   ]
  },
  {
   "cell_type": "code",
   "execution_count": 8,
   "id": "0aa4e184-b80e-49b2-9a4f-83fe99557bc4",
   "metadata": {},
   "outputs": [
    {
     "data": {
      "text/html": [
       "<div>\n",
       "<style scoped>\n",
       "    .dataframe tbody tr th:only-of-type {\n",
       "        vertical-align: middle;\n",
       "    }\n",
       "\n",
       "    .dataframe tbody tr th {\n",
       "        vertical-align: top;\n",
       "    }\n",
       "\n",
       "    .dataframe thead th {\n",
       "        text-align: right;\n",
       "    }\n",
       "</style>\n",
       "<table border=\"1\" class=\"dataframe\">\n",
       "  <thead>\n",
       "    <tr style=\"text-align: right;\">\n",
       "      <th></th>\n",
       "      <th>type</th>\n",
       "      <th>subtype</th>\n",
       "      <th>ts</th>\n",
       "      <th>user</th>\n",
       "      <th>text</th>\n",
       "      <th>channel</th>\n",
       "      <th>client_msg_id</th>\n",
       "      <th>blocks</th>\n",
       "      <th>team</th>\n",
       "      <th>user_team</th>\n",
       "      <th>...</th>\n",
       "      <th>x_files</th>\n",
       "      <th>hidden</th>\n",
       "      <th>bot_id</th>\n",
       "      <th>app_id</th>\n",
       "      <th>bot_profile</th>\n",
       "      <th>room</th>\n",
       "      <th>no_notifications</th>\n",
       "      <th>permalink</th>\n",
       "      <th>bot_link</th>\n",
       "      <th>inviter</th>\n",
       "    </tr>\n",
       "  </thead>\n",
       "  <tbody>\n",
       "    <tr>\n",
       "      <th>0</th>\n",
       "      <td>message</td>\n",
       "      <td>channel_join</td>\n",
       "      <td>1660301317.785879</td>\n",
       "      <td>U03TEPYRM2P</td>\n",
       "      <td>&lt;@U03TEPYRM2P&gt; has joined the channel</td>\n",
       "      <td>all-community-building</td>\n",
       "      <td>NaN</td>\n",
       "      <td>NaN</td>\n",
       "      <td>NaN</td>\n",
       "      <td>NaN</td>\n",
       "      <td>...</td>\n",
       "      <td>NaN</td>\n",
       "      <td>NaN</td>\n",
       "      <td>NaN</td>\n",
       "      <td>NaN</td>\n",
       "      <td>NaN</td>\n",
       "      <td>NaN</td>\n",
       "      <td>NaN</td>\n",
       "      <td>NaN</td>\n",
       "      <td>NaN</td>\n",
       "      <td>NaN</td>\n",
       "    </tr>\n",
       "    <tr>\n",
       "      <th>1</th>\n",
       "      <td>message</td>\n",
       "      <td>channel_join</td>\n",
       "      <td>1660301593.241889</td>\n",
       "      <td>U03T89ACUUW</td>\n",
       "      <td>&lt;@U03T89ACUUW&gt; has joined the channel</td>\n",
       "      <td>all-community-building</td>\n",
       "      <td>NaN</td>\n",
       "      <td>NaN</td>\n",
       "      <td>NaN</td>\n",
       "      <td>NaN</td>\n",
       "      <td>...</td>\n",
       "      <td>NaN</td>\n",
       "      <td>NaN</td>\n",
       "      <td>NaN</td>\n",
       "      <td>NaN</td>\n",
       "      <td>NaN</td>\n",
       "      <td>NaN</td>\n",
       "      <td>NaN</td>\n",
       "      <td>NaN</td>\n",
       "      <td>NaN</td>\n",
       "      <td>NaN</td>\n",
       "    </tr>\n",
       "    <tr>\n",
       "      <th>2</th>\n",
       "      <td>message</td>\n",
       "      <td>channel_join</td>\n",
       "      <td>1660833152.540199</td>\n",
       "      <td>U03U9DB7REG</td>\n",
       "      <td>&lt;@U03U9DB7REG&gt; has joined the channel</td>\n",
       "      <td>all-community-building</td>\n",
       "      <td>NaN</td>\n",
       "      <td>NaN</td>\n",
       "      <td>NaN</td>\n",
       "      <td>NaN</td>\n",
       "      <td>...</td>\n",
       "      <td>NaN</td>\n",
       "      <td>NaN</td>\n",
       "      <td>NaN</td>\n",
       "      <td>NaN</td>\n",
       "      <td>NaN</td>\n",
       "      <td>NaN</td>\n",
       "      <td>NaN</td>\n",
       "      <td>NaN</td>\n",
       "      <td>NaN</td>\n",
       "      <td>NaN</td>\n",
       "    </tr>\n",
       "    <tr>\n",
       "      <th>3</th>\n",
       "      <td>message</td>\n",
       "      <td>channel_join</td>\n",
       "      <td>1660833720.685639</td>\n",
       "      <td>U03UKL27B0R</td>\n",
       "      <td>&lt;@U03UKL27B0R&gt; has joined the channel</td>\n",
       "      <td>all-community-building</td>\n",
       "      <td>NaN</td>\n",
       "      <td>NaN</td>\n",
       "      <td>NaN</td>\n",
       "      <td>NaN</td>\n",
       "      <td>...</td>\n",
       "      <td>NaN</td>\n",
       "      <td>NaN</td>\n",
       "      <td>NaN</td>\n",
       "      <td>NaN</td>\n",
       "      <td>NaN</td>\n",
       "      <td>NaN</td>\n",
       "      <td>NaN</td>\n",
       "      <td>NaN</td>\n",
       "      <td>NaN</td>\n",
       "      <td>NaN</td>\n",
       "    </tr>\n",
       "    <tr>\n",
       "      <th>4</th>\n",
       "      <td>message</td>\n",
       "      <td>channel_join</td>\n",
       "      <td>1660838313.991269</td>\n",
       "      <td>U03UL5LSTG9</td>\n",
       "      <td>&lt;@U03UL5LSTG9&gt; has joined the channel</td>\n",
       "      <td>all-community-building</td>\n",
       "      <td>NaN</td>\n",
       "      <td>NaN</td>\n",
       "      <td>NaN</td>\n",
       "      <td>NaN</td>\n",
       "      <td>...</td>\n",
       "      <td>NaN</td>\n",
       "      <td>NaN</td>\n",
       "      <td>NaN</td>\n",
       "      <td>NaN</td>\n",
       "      <td>NaN</td>\n",
       "      <td>NaN</td>\n",
       "      <td>NaN</td>\n",
       "      <td>NaN</td>\n",
       "      <td>NaN</td>\n",
       "      <td>NaN</td>\n",
       "    </tr>\n",
       "  </tbody>\n",
       "</table>\n",
       "<p>5 rows × 39 columns</p>\n",
       "</div>"
      ],
      "text/plain": [
       "      type       subtype                 ts         user  \\\n",
       "0  message  channel_join  1660301317.785879  U03TEPYRM2P   \n",
       "1  message  channel_join  1660301593.241889  U03T89ACUUW   \n",
       "2  message  channel_join  1660833152.540199  U03U9DB7REG   \n",
       "3  message  channel_join  1660833720.685639  U03UKL27B0R   \n",
       "4  message  channel_join  1660838313.991269  U03UL5LSTG9   \n",
       "\n",
       "                                    text                 channel  \\\n",
       "0  <@U03TEPYRM2P> has joined the channel  all-community-building   \n",
       "1  <@U03T89ACUUW> has joined the channel  all-community-building   \n",
       "2  <@U03U9DB7REG> has joined the channel  all-community-building   \n",
       "3  <@U03UKL27B0R> has joined the channel  all-community-building   \n",
       "4  <@U03UL5LSTG9> has joined the channel  all-community-building   \n",
       "\n",
       "  client_msg_id blocks team user_team  ... x_files hidden bot_id app_id  \\\n",
       "0           NaN    NaN  NaN       NaN  ...     NaN    NaN    NaN    NaN   \n",
       "1           NaN    NaN  NaN       NaN  ...     NaN    NaN    NaN    NaN   \n",
       "2           NaN    NaN  NaN       NaN  ...     NaN    NaN    NaN    NaN   \n",
       "3           NaN    NaN  NaN       NaN  ...     NaN    NaN    NaN    NaN   \n",
       "4           NaN    NaN  NaN       NaN  ...     NaN    NaN    NaN    NaN   \n",
       "\n",
       "   bot_profile  room no_notifications permalink bot_link inviter  \n",
       "0          NaN   NaN              NaN       NaN      NaN     NaN  \n",
       "1          NaN   NaN              NaN       NaN      NaN     NaN  \n",
       "2          NaN   NaN              NaN       NaN      NaN     NaN  \n",
       "3          NaN   NaN              NaN       NaN      NaN     NaN  \n",
       "4          NaN   NaN              NaN       NaN      NaN     NaN  \n",
       "\n",
       "[5 rows x 39 columns]"
      ]
     },
     "execution_count": 8,
     "metadata": {},
     "output_type": "execute_result"
    }
   ],
   "source": [
    "slack_data_df.head()"
   ]
  },
  {
   "cell_type": "code",
   "execution_count": 9,
   "id": "2f26e178-c386-4137-983c-ff6c5699b7dd",
   "metadata": {},
   "outputs": [
    {
     "name": "stderr",
     "output_type": "stream",
     "text": [
      "[nltk_data] Downloading package punkt to\n",
      "[nltk_data]     C:\\Users\\Abel\\AppData\\Roaming\\nltk_data...\n",
      "[nltk_data]   Package punkt is already up-to-date!\n",
      "[nltk_data] Downloading package stopwords to\n",
      "[nltk_data]     C:\\Users\\Abel\\AppData\\Roaming\\nltk_data...\n",
      "[nltk_data]   Package stopwords is already up-to-date!\n"
     ]
    },
    {
     "data": {
      "text/plain": [
       "True"
      ]
     },
     "execution_count": 9,
     "metadata": {},
     "output_type": "execute_result"
    }
   ],
   "source": [
    "# Download 'punkt' resource\n",
    "nltk.download('punkt')\n",
    "nltk.download('stopwords')"
   ]
  },
  {
   "cell_type": "code",
   "execution_count": 10,
   "id": "dfb46a65-e065-4032-8ca9-1ceef919003d",
   "metadata": {},
   "outputs": [],
   "source": [
    "# Apply the cleaning function to the 'text' column\n",
    "slack_data_df['clean_text'] = slack_data_df['text'].apply(utils.clean_text)"
   ]
  },
  {
   "cell_type": "code",
   "execution_count": 11,
   "id": "27d8c7c2-17bc-4afd-8fe9-360f2040bf52",
   "metadata": {},
   "outputs": [],
   "source": [
    "# Remove missing values\n",
    "slack_data_df = slack_data_df.dropna(subset=['clean_text'])"
   ]
  },
  {
   "cell_type": "code",
   "execution_count": 12,
   "id": "eee84fcc-fb4a-493b-b00e-ea18f2e9c822",
   "metadata": {
    "scrolled": true
   },
   "outputs": [
    {
     "name": "stdout",
     "output_type": "stream",
     "text": [
      "Index(['type', 'subtype', 'ts', 'user', 'text', 'channel', 'client_msg_id',\n",
      "       'blocks', 'team', 'user_team', 'source_team', 'user_profile',\n",
      "       'reactions', 'thread_ts', 'reply_count', 'reply_users_count',\n",
      "       'latest_reply', 'reply_users', 'replies', 'is_locked', 'subscribed',\n",
      "       'parent_user_id', 'edited', 'files', 'upload', 'display_as_bot',\n",
      "       'attachments', 'root', 'last_read', 'x_files', 'hidden', 'bot_id',\n",
      "       'app_id', 'bot_profile', 'room', 'no_notifications', 'permalink',\n",
      "       'bot_link', 'inviter', 'clean_text'],\n",
      "      dtype='object')\n"
     ]
    }
   ],
   "source": [
    "print(slack_data_df.columns)"
   ]
  },
  {
   "cell_type": "code",
   "execution_count": 13,
   "id": "17c76e9e-3fe3-47ec-82ab-b3fc35e844e8",
   "metadata": {},
   "outputs": [
    {
     "name": "stdout",
     "output_type": "stream",
     "text": [
      "          type       subtype                 ts         user  \\\n",
      "0      message  channel_join  1660301317.785879  U03TEPYRM2P   \n",
      "1      message  channel_join  1660301593.241889  U03T89ACUUW   \n",
      "2      message  channel_join  1660833152.540199  U03U9DB7REG   \n",
      "3      message  channel_join  1660833720.685639  U03UKL27B0R   \n",
      "4      message  channel_join  1660838313.991269  U03UL5LSTG9   \n",
      "...        ...           ...                ...          ...   \n",
      "20005  message  channel_join  1668760648.789009  U03UUS0MZCZ   \n",
      "20006  message  channel_join  1668760648.854949  U03UG4Q7V42   \n",
      "20007  message  channel_join  1668760648.921119  U03U9DB7REG   \n",
      "20008  message  channel_join  1668760648.982879  U03UUN8M4RX   \n",
      "20009  message  channel_join  1668760649.047239  U03UKL27B0R   \n",
      "\n",
      "                                        text                 channel  \\\n",
      "0      <@U03TEPYRM2P> has joined the channel  all-community-building   \n",
      "1      <@U03T89ACUUW> has joined the channel  all-community-building   \n",
      "2      <@U03U9DB7REG> has joined the channel  all-community-building   \n",
      "3      <@U03UKL27B0R> has joined the channel  all-community-building   \n",
      "4      <@U03UL5LSTG9> has joined the channel  all-community-building   \n",
      "...                                      ...                     ...   \n",
      "20005  <@U03UUS0MZCZ> has joined the channel        data-engineering   \n",
      "20006  <@U03UG4Q7V42> has joined the channel        data-engineering   \n",
      "20007  <@U03U9DB7REG> has joined the channel        data-engineering   \n",
      "20008  <@U03UUN8M4RX> has joined the channel        data-engineering   \n",
      "20009  <@U03UKL27B0R> has joined the channel        data-engineering   \n",
      "\n",
      "      client_msg_id blocks team user_team  ... hidden bot_id app_id  \\\n",
      "0               NaN    NaN  NaN       NaN  ...    NaN    NaN    NaN   \n",
      "1               NaN    NaN  NaN       NaN  ...    NaN    NaN    NaN   \n",
      "2               NaN    NaN  NaN       NaN  ...    NaN    NaN    NaN   \n",
      "3               NaN    NaN  NaN       NaN  ...    NaN    NaN    NaN   \n",
      "4               NaN    NaN  NaN       NaN  ...    NaN    NaN    NaN   \n",
      "...             ...    ...  ...       ...  ...    ...    ...    ...   \n",
      "20005           NaN    NaN  NaN       NaN  ...    NaN    NaN    NaN   \n",
      "20006           NaN    NaN  NaN       NaN  ...    NaN    NaN    NaN   \n",
      "20007           NaN    NaN  NaN       NaN  ...    NaN    NaN    NaN   \n",
      "20008           NaN    NaN  NaN       NaN  ...    NaN    NaN    NaN   \n",
      "20009           NaN    NaN  NaN       NaN  ...    NaN    NaN    NaN   \n",
      "\n",
      "      bot_profile  room  no_notifications permalink bot_link      inviter  \\\n",
      "0             NaN   NaN               NaN       NaN      NaN          NaN   \n",
      "1             NaN   NaN               NaN       NaN      NaN          NaN   \n",
      "2             NaN   NaN               NaN       NaN      NaN          NaN   \n",
      "3             NaN   NaN               NaN       NaN      NaN          NaN   \n",
      "4             NaN   NaN               NaN       NaN      NaN          NaN   \n",
      "...           ...   ...               ...       ...      ...          ...   \n",
      "20005         NaN   NaN               NaN       NaN      NaN  U03UL5LSTG9   \n",
      "20006         NaN   NaN               NaN       NaN      NaN  U03UL5LSTG9   \n",
      "20007         NaN   NaN               NaN       NaN      NaN  U03UL5LSTG9   \n",
      "20008         NaN   NaN               NaN       NaN      NaN  U03UL5LSTG9   \n",
      "20009         NaN   NaN               NaN       NaN      NaN  U03UL5LSTG9   \n",
      "\n",
      "         clean_text  \n",
      "0      join channel  \n",
      "1      join channel  \n",
      "2      join channel  \n",
      "3      join channel  \n",
      "4      join channel  \n",
      "...             ...  \n",
      "20005  join channel  \n",
      "20006  join channel  \n",
      "20007  join channel  \n",
      "20008  join channel  \n",
      "20009  join channel  \n",
      "\n",
      "[20010 rows x 40 columns]\n"
     ]
    }
   ],
   "source": [
    "print(slack_data_df)"
   ]
  },
  {
   "cell_type": "code",
   "execution_count": 14,
   "id": "900fbd37-239e-4219-a23e-a7d0fb6aaa4b",
   "metadata": {},
   "outputs": [],
   "source": [
    "selected_columns = ['channel', 'text']\n",
    "slack_data_df_ct = slack_data_df[selected_columns]"
   ]
  },
  {
   "cell_type": "code",
   "execution_count": 15,
   "id": "6da18b92-601d-4dff-8218-7a9b666cbe5c",
   "metadata": {},
   "outputs": [
    {
     "name": "stdout",
     "output_type": "stream",
     "text": [
      "                      channel                                   text\n",
      "0      all-community-building  <@U03TEPYRM2P> has joined the channel\n",
      "1      all-community-building  <@U03T89ACUUW> has joined the channel\n",
      "2      all-community-building  <@U03U9DB7REG> has joined the channel\n",
      "3      all-community-building  <@U03UKL27B0R> has joined the channel\n",
      "4      all-community-building  <@U03UL5LSTG9> has joined the channel\n",
      "...                       ...                                    ...\n",
      "20005        data-engineering  <@U03UUS0MZCZ> has joined the channel\n",
      "20006        data-engineering  <@U03UG4Q7V42> has joined the channel\n",
      "20007        data-engineering  <@U03U9DB7REG> has joined the channel\n",
      "20008        data-engineering  <@U03UUN8M4RX> has joined the channel\n",
      "20009        data-engineering  <@U03UKL27B0R> has joined the channel\n",
      "\n",
      "[20010 rows x 2 columns]\n"
     ]
    }
   ],
   "source": [
    "print(slack_data_df_ct)"
   ]
  },
  {
   "cell_type": "code",
   "execution_count": 16,
   "id": "11704812-72f8-4dd2-b5da-7e3416e8cf81",
   "metadata": {},
   "outputs": [],
   "source": [
    "# Train-test split\n",
    "X_train, X_test, y_train, y_test = train_test_split(slack_data_df_ct['text'], slack_data_df_ct['channel'], test_size=0.2, random_state=42)"
   ]
  },
  {
   "cell_type": "code",
   "execution_count": 17,
   "id": "4824bad2-b719-4ccb-b01f-e62c5ad47860",
   "metadata": {},
   "outputs": [],
   "source": [
    "# Vectorize the text data\n",
    "vectorizer = CountVectorizer()\n",
    "X_train_vec = vectorizer.fit_transform(X_train)\n",
    "X_test_vec = vectorizer.transform(X_test)"
   ]
  },
  {
   "cell_type": "code",
   "execution_count": 18,
   "id": "a5ff0a5b-9210-44dd-a0f9-716819b204cf",
   "metadata": {},
   "outputs": [
    {
     "data": {
      "text/html": [
       "<style>#sk-container-id-1 {color: black;}#sk-container-id-1 pre{padding: 0;}#sk-container-id-1 div.sk-toggleable {background-color: white;}#sk-container-id-1 label.sk-toggleable__label {cursor: pointer;display: block;width: 100%;margin-bottom: 0;padding: 0.3em;box-sizing: border-box;text-align: center;}#sk-container-id-1 label.sk-toggleable__label-arrow:before {content: \"▸\";float: left;margin-right: 0.25em;color: #696969;}#sk-container-id-1 label.sk-toggleable__label-arrow:hover:before {color: black;}#sk-container-id-1 div.sk-estimator:hover label.sk-toggleable__label-arrow:before {color: black;}#sk-container-id-1 div.sk-toggleable__content {max-height: 0;max-width: 0;overflow: hidden;text-align: left;background-color: #f0f8ff;}#sk-container-id-1 div.sk-toggleable__content pre {margin: 0.2em;color: black;border-radius: 0.25em;background-color: #f0f8ff;}#sk-container-id-1 input.sk-toggleable__control:checked~div.sk-toggleable__content {max-height: 200px;max-width: 100%;overflow: auto;}#sk-container-id-1 input.sk-toggleable__control:checked~label.sk-toggleable__label-arrow:before {content: \"▾\";}#sk-container-id-1 div.sk-estimator input.sk-toggleable__control:checked~label.sk-toggleable__label {background-color: #d4ebff;}#sk-container-id-1 div.sk-label input.sk-toggleable__control:checked~label.sk-toggleable__label {background-color: #d4ebff;}#sk-container-id-1 input.sk-hidden--visually {border: 0;clip: rect(1px 1px 1px 1px);clip: rect(1px, 1px, 1px, 1px);height: 1px;margin: -1px;overflow: hidden;padding: 0;position: absolute;width: 1px;}#sk-container-id-1 div.sk-estimator {font-family: monospace;background-color: #f0f8ff;border: 1px dotted black;border-radius: 0.25em;box-sizing: border-box;margin-bottom: 0.5em;}#sk-container-id-1 div.sk-estimator:hover {background-color: #d4ebff;}#sk-container-id-1 div.sk-parallel-item::after {content: \"\";width: 100%;border-bottom: 1px solid gray;flex-grow: 1;}#sk-container-id-1 div.sk-label:hover label.sk-toggleable__label {background-color: #d4ebff;}#sk-container-id-1 div.sk-serial::before {content: \"\";position: absolute;border-left: 1px solid gray;box-sizing: border-box;top: 0;bottom: 0;left: 50%;z-index: 0;}#sk-container-id-1 div.sk-serial {display: flex;flex-direction: column;align-items: center;background-color: white;padding-right: 0.2em;padding-left: 0.2em;position: relative;}#sk-container-id-1 div.sk-item {position: relative;z-index: 1;}#sk-container-id-1 div.sk-parallel {display: flex;align-items: stretch;justify-content: center;background-color: white;position: relative;}#sk-container-id-1 div.sk-item::before, #sk-container-id-1 div.sk-parallel-item::before {content: \"\";position: absolute;border-left: 1px solid gray;box-sizing: border-box;top: 0;bottom: 0;left: 50%;z-index: -1;}#sk-container-id-1 div.sk-parallel-item {display: flex;flex-direction: column;z-index: 1;position: relative;background-color: white;}#sk-container-id-1 div.sk-parallel-item:first-child::after {align-self: flex-end;width: 50%;}#sk-container-id-1 div.sk-parallel-item:last-child::after {align-self: flex-start;width: 50%;}#sk-container-id-1 div.sk-parallel-item:only-child::after {width: 0;}#sk-container-id-1 div.sk-dashed-wrapped {border: 1px dashed gray;margin: 0 0.4em 0.5em 0.4em;box-sizing: border-box;padding-bottom: 0.4em;background-color: white;}#sk-container-id-1 div.sk-label label {font-family: monospace;font-weight: bold;display: inline-block;line-height: 1.2em;}#sk-container-id-1 div.sk-label-container {text-align: center;}#sk-container-id-1 div.sk-container {/* jupyter's `normalize.less` sets `[hidden] { display: none; }` but bootstrap.min.css set `[hidden] { display: none !important; }` so we also need the `!important` here to be able to override the default hidden behavior on the sphinx rendered scikit-learn.org. See: https://github.com/scikit-learn/scikit-learn/issues/21755 */display: inline-block !important;position: relative;}#sk-container-id-1 div.sk-text-repr-fallback {display: none;}</style><div id=\"sk-container-id-1\" class=\"sk-top-container\"><div class=\"sk-text-repr-fallback\"><pre>MultinomialNB()</pre><b>In a Jupyter environment, please rerun this cell to show the HTML representation or trust the notebook. <br />On GitHub, the HTML representation is unable to render, please try loading this page with nbviewer.org.</b></div><div class=\"sk-container\" hidden><div class=\"sk-item\"><div class=\"sk-estimator sk-toggleable\"><input class=\"sk-toggleable__control sk-hidden--visually\" id=\"sk-estimator-id-1\" type=\"checkbox\" checked><label for=\"sk-estimator-id-1\" class=\"sk-toggleable__label sk-toggleable__label-arrow\">MultinomialNB</label><div class=\"sk-toggleable__content\"><pre>MultinomialNB()</pre></div></div></div></div></div>"
      ],
      "text/plain": [
       "MultinomialNB()"
      ]
     },
     "execution_count": 18,
     "metadata": {},
     "output_type": "execute_result"
    }
   ],
   "source": [
    "# Train a Naive Bayes classifier\n",
    "classifier = MultinomialNB()\n",
    "classifier.fit(X_train_vec, y_train)"
   ]
  },
  {
   "cell_type": "code",
   "execution_count": 19,
   "id": "93f2325a-8a4d-4a8f-837e-53b08f20eace",
   "metadata": {},
   "outputs": [],
   "source": [
    "# Make predictions\n",
    "predictions = classifier.predict(X_test_vec)"
   ]
  },
  {
   "cell_type": "code",
   "execution_count": 20,
   "id": "3b46c870-b46c-45eb-baff-db4dbd065960",
   "metadata": {},
   "outputs": [
    {
     "name": "stdout",
     "output_type": "stream",
     "text": [
      "Accuracy: 0.5487256371814093\n",
      "                               precision    recall  f1-score   support\n",
      "\n",
      "                ab_test-group       0.69      0.32      0.43       104\n",
      "           adludios-challange       0.69      0.07      0.13       122\n",
      "                all-broadcast       0.58      0.64      0.61       102\n",
      "         all-career-exercises       0.48      0.24      0.32       168\n",
      "       all-community-building       0.57      0.97      0.72      1650\n",
      "                all-de-week12       0.00      0.00      0.00         1\n",
      "                    all-ideas       0.50      0.02      0.03        60\n",
      "                all-ml-week12       0.00      0.00      0.00         5\n",
      "                all-resources       0.72      0.89      0.80       314\n",
      "        all-technical-support       0.00      0.00      0.00        38\n",
      "              all-web3-week12       0.00      0.00      0.00         3\n",
      "                    all-week1       0.60      0.22      0.32       131\n",
      "                   all-week10       1.00      0.04      0.08        47\n",
      "                   all-week11       0.00      0.00      0.00        57\n",
      "                   all-week12       0.00      0.00      0.00        30\n",
      "                    all-week2       1.00      0.04      0.07        80\n",
      "                    all-week3       0.09      0.17      0.12        98\n",
      "                    all-week4       0.25      0.01      0.02        86\n",
      "                    all-week5       0.40      0.16      0.23       108\n",
      "                    all-week6       0.71      0.07      0.12        76\n",
      "                    all-week7       0.33      0.21      0.26       124\n",
      "                    all-week8       0.00      0.00      0.00        31\n",
      "                    all-week9       0.00      0.00      0.00        34\n",
      "      batch6_week4_studygroup       0.00      0.00      0.00         1\n",
      "                    chang-w11       0.00      0.00      0.00        16\n",
      "             data-engineering       0.00      0.00      0.00         8\n",
      "                      dsa-sql       0.00      0.00      0.00        25\n",
      "gokada-challenge-presentation       0.00      0.00      0.00         7\n",
      "   happy-new-year-study-group       0.00      0.00      0.00        17\n",
      "                     kafka_de       0.35      0.35      0.35       172\n",
      "             machine-learning       0.00      0.00      0.00         3\n",
      "                       random       0.35      0.05      0.08       132\n",
      "                  study-group       0.00      0.00      0.00        11\n",
      "                      team-10       1.00      0.03      0.05        73\n",
      "               week-11-group4       0.00      0.00      0.00        34\n",
      "               week-2-group-8       0.00      0.00      0.00        17\n",
      "               week4-teamwork       0.00      0.00      0.00        17\n",
      "\n",
      "                     accuracy                           0.55      4002\n",
      "                    macro avg       0.28      0.12      0.13      4002\n",
      "                 weighted avg       0.51      0.55      0.46      4002\n",
      "\n"
     ]
    },
    {
     "name": "stderr",
     "output_type": "stream",
     "text": [
      "C:\\Users\\Abel\\Documents\\10 Academy\\10-Academy-Week-0\\week0\\Lib\\site-packages\\sklearn\\metrics\\_classification.py:1471: UndefinedMetricWarning: Precision and F-score are ill-defined and being set to 0.0 in labels with no predicted samples. Use `zero_division` parameter to control this behavior.\n",
      "  _warn_prf(average, modifier, msg_start, len(result))\n",
      "C:\\Users\\Abel\\Documents\\10 Academy\\10-Academy-Week-0\\week0\\Lib\\site-packages\\sklearn\\metrics\\_classification.py:1471: UndefinedMetricWarning: Precision and F-score are ill-defined and being set to 0.0 in labels with no predicted samples. Use `zero_division` parameter to control this behavior.\n",
      "  _warn_prf(average, modifier, msg_start, len(result))\n",
      "C:\\Users\\Abel\\Documents\\10 Academy\\10-Academy-Week-0\\week0\\Lib\\site-packages\\sklearn\\metrics\\_classification.py:1471: UndefinedMetricWarning: Precision and F-score are ill-defined and being set to 0.0 in labels with no predicted samples. Use `zero_division` parameter to control this behavior.\n",
      "  _warn_prf(average, modifier, msg_start, len(result))\n"
     ]
    }
   ],
   "source": [
    "# Evaluate the model\n",
    "accuracy = accuracy_score(y_test, predictions)\n",
    "print(f\"Accuracy: {accuracy}\")\n",
    "print(classification_report(y_test, predictions))"
   ]
  },
  {
   "cell_type": "code",
   "execution_count": 21,
   "id": "a5b0b6e3-0976-4cf8-8b48-fd869b685a3b",
   "metadata": {},
   "outputs": [],
   "source": [
    "# Using Latent Dirichlet Allocation (LDA) for Topic Modeling\n",
    "lda = LatentDirichletAllocation(n_components=10, random_state=42)\n",
    "message_topics = lda.fit_transform(X_train_vec)"
   ]
  },
  {
   "cell_type": "code",
   "execution_count": 22,
   "id": "82a9a7d7-a815-40c7-99f6-85b6a686a284",
   "metadata": {},
   "outputs": [],
   "source": [
    "# Log the model with MLflow\n",
    "os.makedirs(\"mlflow_logs/artifacts\", exist_ok=True)\n",
    "with mlflow.start_run():\n",
    "    mlflow.log_param(\"model_type\", \"NaiveBayes\")\n",
    "    mlflow.sklearn.log_model(classifier, \"model\")\n",
    "\n",
    "    # Save vectorizer\n",
    "    vectorizer_path = \"mlflow_logs/artifacts/vectorizer.pkl\"\n",
    "    joblib.dump(vectorizer, vectorizer_path)\n",
    "    mlflow.log_artifact(vectorizer_path, \"artifacts\")\n",
    "\n",
    "    # Save LDA model\n",
    "    lda_path = \"mlflow_logs/artifacts/lda_model.pkl\"\n",
    "    joblib.dump(lda, lda_path)\n",
    "    mlflow.log_artifact(lda_path, \"artifacts\")\n",
    "\n",
    "    # Log additional information\n",
    "    mlflow.log_param(\"accuracy\", accuracy)"
   ]
  },
  {
   "cell_type": "code",
   "execution_count": 23,
   "id": "89254f83-9911-4425-918e-ad06ba05a280",
   "metadata": {},
   "outputs": [
    {
     "name": "stderr",
     "output_type": "stream",
     "text": [
      "[nltk_data] Downloading package vader_lexicon to\n",
      "[nltk_data]     C:\\Users\\Abel\\AppData\\Roaming\\nltk_data...\n",
      "[nltk_data]   Package vader_lexicon is already up-to-date!\n"
     ]
    },
    {
     "data": {
      "text/plain": [
       "True"
      ]
     },
     "execution_count": 23,
     "metadata": {},
     "output_type": "execute_result"
    }
   ],
   "source": [
    "nltk.download('vader_lexicon')"
   ]
  },
  {
   "cell_type": "code",
   "execution_count": 24,
   "id": "945b5bd5-3bcf-49e4-94df-6c8518e7f79e",
   "metadata": {},
   "outputs": [
    {
     "name": "stderr",
     "output_type": "stream",
     "text": [
      "C:\\Users\\Public\\Documents\\Wondershare\\CreatorTemp\\ipykernel_30380\\462206010.py:3: SettingWithCopyWarning: \n",
      "A value is trying to be set on a copy of a slice from a DataFrame.\n",
      "Try using .loc[row_indexer,col_indexer] = value instead\n",
      "\n",
      "See the caveats in the documentation: https://pandas.pydata.org/pandas-docs/stable/user_guide/indexing.html#returning-a-view-versus-a-copy\n",
      "  slack_data_df_ct['sentiment_score'] = slack_data_df_ct['text'].apply(lambda x: sid.polarity_scores(x)['compound'])\n",
      "C:\\Users\\Public\\Documents\\Wondershare\\CreatorTemp\\ipykernel_30380\\462206010.py:4: SettingWithCopyWarning: \n",
      "A value is trying to be set on a copy of a slice from a DataFrame.\n",
      "Try using .loc[row_indexer,col_indexer] = value instead\n",
      "\n",
      "See the caveats in the documentation: https://pandas.pydata.org/pandas-docs/stable/user_guide/indexing.html#returning-a-view-versus-a-copy\n",
      "  slack_data_df_ct['sentiment'] = slack_data_df_ct['sentiment_score'].apply(lambda x: 'positive' if x >= 0 else 'negative')\n"
     ]
    }
   ],
   "source": [
    "# Using NLTK's Vader Sentiment Intensity Analyzer for Sentiment Analysis\n",
    "sid = SentimentIntensityAnalyzer()\n",
    "slack_data_df_ct['sentiment_score'] = slack_data_df_ct['text'].apply(lambda x: sid.polarity_scores(x)['compound'])\n",
    "slack_data_df_ct['sentiment'] = slack_data_df_ct['sentiment_score'].apply(lambda x: 'positive' if x >= 0 else 'negative')"
   ]
  },
  {
   "cell_type": "code",
   "execution_count": 25,
   "id": "627e18d5-d51e-4122-9e9f-8de4c1a8f169",
   "metadata": {},
   "outputs": [],
   "source": [
    "# Analysis of Top 10 Topics\n",
    "# Print the top words for each topic\n",
    "feature_names = vectorizer.get_feature_names_out()\n",
    "topic_words = []\n",
    "for topic_weights in lda.components_:\n",
    "    top_word_idx = topic_weights.argsort()[-10:][::-1]\n",
    "    topic_words.append([feature_names[i] for i in top_word_idx])"
   ]
  },
  {
   "cell_type": "code",
   "execution_count": 26,
   "id": "31ad03b4-57d9-42f7-8265-f880bce10bd0",
   "metadata": {},
   "outputs": [
    {
     "name": "stdout",
     "output_type": "stream",
     "text": [
      "Topic 1: is, it, the, this, for, was, that, what, not, my\n",
      "Topic 2: https, yes, org, com, io, airflow, be, youtu, docs, kafka\n",
      "Topic 3: the, has, channel, joined, in, home, py, he, file, line\n",
      "Topic 4: joy, hello, the, can, you, same, one, is, it, error\n",
      "Topic 5: to, we, will, be, this, the, and, it, for, are\n",
      "Topic 6: to, you, that, my, are, yeah, and, the, too, am\n",
      "Topic 7: the, google, meet, session, here, time, please, on, in, next\n",
      "Topic 8: you, the, to, of, and, have, for, in, it, your\n",
      "Topic 9: https, com, www, youtube, watch, amp, good, morning, in, blog\n",
      "Topic 10: the, to, and, you, it, on, is, we, of, for\n"
     ]
    }
   ],
   "source": [
    "# Display the top words for each topic\n",
    "for i, words in enumerate(topic_words):\n",
    "    print(f\"Topic {i + 1}: {', '.join(words)}\")"
   ]
  },
  {
   "cell_type": "code",
   "execution_count": 27,
   "id": "919c90ee-139c-4c3f-a7e9-f7ad48d3a88b",
   "metadata": {},
   "outputs": [
    {
     "data": {
      "image/png": "[encoded data removed]",
      "text/plain": [
       "<Figure size 640x480 with 1 Axes>"
      ]
     },
     "metadata": {},
     "output_type": "display_data"
    }
   ],
   "source": [
    "# Visualize the sentiment distribution\n",
    "sns.countplot(x='sentiment', data=slack_data_df_ct)\n",
    "plt.show()"
   ]
  },
  {
   "cell_type": "code",
   "execution_count": 28,
   "id": "bc26d1a6-673b-492a-815c-e60071d4340c",
   "metadata": {},
   "outputs": [],
   "source": [
    "slack_data_df['ts'] = utils.convert_2_timestamp('ts', slack_data_df)"
   ]
  },
  {
   "cell_type": "code",
   "execution_count": 29,
   "id": "17c531be-0f59-4a36-8ce2-6c1e49c952c5",
   "metadata": {},
   "outputs": [],
   "source": [
    "start_date = pd.to_datetime(slack_data_df['ts']).min().date()  # Assuming the start date is the minimum date in the 'ts' column\n",
    "slack_data_df['days_since_start'] = (pd.to_datetime(slack_data_df['ts']).dt.date - start_date).dt.days"
   ]
  },
  {
   "cell_type": "code",
   "execution_count": 30,
   "id": "45bac73f-18a8-4e18-bc01-3e9c8679fd23",
   "metadata": {},
   "outputs": [],
   "source": [
    "grouped_data = slack_data_df.groupby('days_since_start')\n"
   ]
  },
  {
   "cell_type": "code",
   "execution_count": 31,
   "id": "1bef4110-029d-4537-9b6b-ef0b05225631",
   "metadata": {},
   "outputs": [],
   "source": [
    "from textblob import TextBlob\n",
    "\n",
    "def analyze_sentiment(text):\n",
    "    analysis = TextBlob(text)\n",
    "    return analysis.sentiment.polarity\n",
    "\n",
    "# Apply sentiment analysis to the 'combined_text' column\n",
    "slack_data_df['sentiment'] = slack_data_df['text'].apply(analyze_sentiment)\n"
   ]
  },
  {
   "cell_type": "code",
   "execution_count": 32,
   "id": "c9c3dbe5-8058-4f56-93c7-d66113a10f7b",
   "metadata": {},
   "outputs": [],
   "source": [
    "# The sentiment score typically ranges from -1 to 1, where:\n",
    "\n",
    "# Positive sentiment: A score closer to 1 indicates a more positive sentiment.\n",
    "# Neutral sentiment: A score around 0 suggests a neutral sentiment.\n",
    "# Negative sentiment: A score closer to -1 indicates a more negative sentiment."
   ]
  },
  {
   "cell_type": "code",
   "execution_count": 33,
   "id": "1dd90bb1-f8ca-40e9-9be4-d4e71d692b92",
   "metadata": {},
   "outputs": [
    {
     "data": {
      "image/png": "[encoded data removed]",
      "text/plain": [
       "<Figure size 1000x600 with 1 Axes>"
      ]
     },
     "metadata": {},
     "output_type": "display_data"
    }
   ],
   "source": [
    "import matplotlib.pyplot as plt\n",
    "\n",
    "plt.figure(figsize=(10, 6))\n",
    "grouped_data['sentiment'].mean().plot(kind='line')\n",
    "plt.title('Sentiment of Messages Over Time')\n",
    "plt.xlabel('Days Since Start')\n",
    "plt.ylabel('Average Sentiment')\n",
    "plt.show()"
   ]
  },
  {
   "cell_type": "code",
   "execution_count": 34,
   "id": "6dc1d637-e392-4c94-85f2-1dcee6461ae4",
   "metadata": {},
   "outputs": [],
   "source": [
    "#Create a 'Days Since Start' Column\n",
    "start_date = pd.to_datetime(slack_data_df['ts']).min().date()  # Assuming the start date is the minimum date in the 'ts' column\n",
    "slack_data_df['days_since_start'] = (pd.to_datetime(slack_data_df['ts']).dt.date - start_date).dt.days"
   ]
  },
  {
   "cell_type": "code",
   "execution_count": 35,
   "id": "1008befc-e04a-4301-b6c9-a15865bb35bb",
   "metadata": {},
   "outputs": [],
   "source": [
    "grouped_data = slack_data_df.groupby('days_since_start')"
   ]
  },
  {
   "cell_type": "code",
   "execution_count": 36,
   "id": "4fa6eebc-f3e5-46d0-a664-fda7c90def55",
   "metadata": {},
   "outputs": [],
   "source": [
    "# Initialize an empty list to store DataFrames\n",
    "dfs_to_concat = []"
   ]
  },
  {
   "cell_type": "code",
   "execution_count": 37,
   "id": "b866d338-3174-4577-8ee5-e1a3c59d24ef",
   "metadata": {},
   "outputs": [],
   "source": [
    "for day, group in grouped_data:\n",
    "    # Concatenate all messages and replies for the current day\n",
    "    concatenated_text = ' '.join(group['text'].dropna())\n",
    "    \n",
    "    # Create a DataFrame for the current day\n",
    "    day_df = pd.DataFrame({'day': [day], 'concatenated_text': [concatenated_text]})\n",
    "    \n",
    "    # Append the DataFrame to the list\n",
    "    dfs_to_concat.append(day_df)\n"
   ]
  },
  {
   "cell_type": "code",
   "execution_count": 38,
   "id": "773978a2-5554-494e-b3b9-cee1494566c6",
   "metadata": {},
   "outputs": [],
   "source": [
    "concatenated_texts_df = pd.concat(dfs_to_concat, ignore_index=True)"
   ]
  },
  {
   "cell_type": "code",
   "execution_count": 39,
   "id": "c0a6b428-9945-47c8-98fd-12f716383040",
   "metadata": {},
   "outputs": [
    {
     "name": "stdout",
     "output_type": "stream",
     "text": [
      "     day                                  concatenated_text\n",
      "0      0  <@U03TEPYRM2P> has joined the channel <@U03T89...\n",
      "1      6  <@U03U9DB7REG> has joined the channel <@U03UKL...\n",
      "2      7  <@U03UP7V9Q57> has joined the channel <@U03UDB...\n",
      "3      8  <@U03U1FNPEUX> has joined the channel <@U03U1F...\n",
      "4      9  Hi all, looking forward to starting together, ...\n",
      "..   ...                                                ...\n",
      "100  106  <https://youtu.be/-DVyjdw4t9I|https://youtu.be...\n",
      "101  107  <https://resources.biginterview.com/interview-...\n",
      "102  110  Hey <!channel>, can everyone work on deploymen...\n",
      "103  122  <!channel> <!here> Hello Buddies, Its my hope ...\n",
      "104  161  Can one/ team enroll to <https://lablab.ai/eve...\n",
      "\n",
      "[105 rows x 2 columns]\n"
     ]
    }
   ],
   "source": [
    "# Display the resulting DataFrame\n",
    "print(concatenated_texts_df)"
   ]
  },
  {
   "cell_type": "code",
   "execution_count": 40,
   "id": "268a7e25-66bd-4736-9cb8-c64edc0f8376",
   "metadata": {},
   "outputs": [],
   "source": [
    "analyzer = SentimentIntensityAnalyzer()"
   ]
  },
  {
   "cell_type": "code",
   "execution_count": 41,
   "id": "415242d5-dbc0-4c8b-aa4b-677bbfa5a115",
   "metadata": {},
   "outputs": [],
   "source": [
    "# Apply sentiment analysis to each row\n",
    "concatenated_texts_df['compound'] = concatenated_texts_df['concatenated_text'].apply(lambda x: analyzer.polarity_scores(x)['compound'])"
   ]
  },
  {
   "cell_type": "code",
   "execution_count": 42,
   "id": "f10df14c-4095-41d5-bcf5-7b818d33ee78",
   "metadata": {},
   "outputs": [
    {
     "name": "stdout",
     "output_type": "stream",
     "text": [
      "     day  compound\n",
      "0      0    0.0000\n",
      "1      6    0.0000\n",
      "2      7    0.0000\n",
      "3      8    0.9902\n",
      "4      9    0.9634\n",
      "..   ...       ...\n",
      "100  106    0.9200\n",
      "101  107    0.0000\n",
      "102  110    0.3802\n",
      "103  122    0.9756\n",
      "104  161    0.0000\n",
      "\n",
      "[105 rows x 2 columns]\n"
     ]
    }
   ],
   "source": [
    "# Display the resulting DataFrame\n",
    "print(concatenated_texts_df[['day', 'compound']])"
   ]
  },
  {
   "cell_type": "code",
   "execution_count": 43,
   "id": "e222a89f-4153-4bd9-aea9-9d2727994e14",
   "metadata": {},
   "outputs": [],
   "source": [
    "# The sentiment score typically ranges from -1 to 1, where:\n",
    "\n",
    "# Positive sentiment: A score closer to 1 indicates a more positive sentiment.\n",
    "# Neutral sentiment: A score around 0 suggests a neutral sentiment.\n",
    "# Negative sentiment: A score closer to -1 indicates a more negative sentiment."
   ]
  },
  {
   "cell_type": "code",
   "execution_count": 44,
   "id": "f8216a31-9fc9-40e1-9fba-93ef703ef82f",
   "metadata": {},
   "outputs": [
    {
     "data": {
      "image/png": "[encoded data removed]",
      "text/plain": [
       "<Figure size 1200x600 with 1 Axes>"
      ]
     },
     "metadata": {},
     "output_type": "display_data"
    }
   ],
   "source": [
    "plt.figure(figsize=(12, 6))\n",
    "plt.plot(concatenated_texts_df['day'], concatenated_texts_df['compound'], marker='o', linestyle='-', color='b')\n",
    "plt.title('Sentiment Scores Over Time')\n",
    "plt.xlabel('Days Since Start')\n",
    "plt.ylabel('Compound Sentiment Score')\n",
    "plt.grid(True)\n",
    "plt.show()"
   ]
  },
  {
   "cell_type": "code",
   "execution_count": null,
   "id": "5127fc11-fb5c-4a2b-809f-7017535819c3",
   "metadata": {},
   "outputs": [],
   "source": []
  }
 ],
 "metadata": {
  "kernelspec": {
   "display_name": "Python 3 (ipykernel)",
   "language": "python",
   "name": "python3"
  },
  "language_info": {
   "codemirror_mode": {
    "name": "ipython",
    "version": 3
   },
   "file_extension": ".py",
   "mimetype": "text/x-python",
   "name": "python",
   "nbconvert_exporter": "python",
   "pygments_lexer": "ipython3",
   "version": "3.11.0"
  }
 },
 "nbformat": 4,
 "nbformat_minor": 5
}
