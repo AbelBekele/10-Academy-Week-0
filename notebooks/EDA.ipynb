{
 "cells": [
  {
   "cell_type": "code",
   "execution_count": 1,
   "id": "f3e72abd-bf8a-40f7-a1d5-83fc735c10eb",
   "metadata": {},
   "outputs": [],
   "source": [
    "import os\n",
    "import sys\n",
    "import re\n",
    "import json\n",
    "import glob\n",
    "import datetime\n",
    "from collections import Counter\n",
    "\n",
    "import pandas as pd\n",
    "from matplotlib import pyplot as plt\n",
    "import seaborn as sns\n",
    "\n",
    "from nltk.corpus import stopwords\n",
    "from wordcloud import WordCloud"
   ]
  },
  {
   "cell_type": "code",
   "execution_count": 2,
   "id": "4781b773-ab60-4414-a521-10f91570ba1e",
   "metadata": {},
   "outputs": [],
   "source": [
    "os.chdir('..') "
   ]
  },
  {
   "cell_type": "code",
   "execution_count": 3,
   "id": "2316289d-d820-495b-bfc4-ca18530b342b",
   "metadata": {},
   "outputs": [],
   "source": [
    "from src.loader import SlackDataLoader"
   ]
  },
  {
   "cell_type": "code",
   "execution_count": 4,
   "id": "b7407a58-077c-4e1c-b284-45de153840b1",
   "metadata": {},
   "outputs": [
    {
     "name": "stdout",
     "output_type": "stream",
     "text": [
      "Output File: slack_data.csv\n",
      "Path: data\\Anonymized_B6SlackExport_25Nov23\\anonymized\n",
      "Channel: data\\Anonymized_B6SlackExport_25Nov23\\anonymized\\channels.json\n",
      "Userfile: data\\Anonymized_B6SlackExport_25Nov23\\anonymized\\users.json\n"
     ]
    }
   ],
   "source": [
    "from src.config import cfg"
   ]
  },
  {
   "cell_type": "code",
   "execution_count": 5,
   "id": "4aecda50-9d8c-4e55-8089-6d28c48496fc",
   "metadata": {},
   "outputs": [],
   "source": [
    "import src.utils as utils"
   ]
  },
  {
   "cell_type": "code",
   "execution_count": null,
   "id": "56eb6d4d-1378-408b-b23b-b6cca7acb092",
   "metadata": {},
   "outputs": [],
   "source": []
  }
 ],
 "metadata": {
  "kernelspec": {
   "display_name": "Python 3 (ipykernel)",
   "language": "python",
   "name": "python3"
  },
  "language_info": {
   "codemirror_mode": {
    "name": "ipython",
    "version": 3
   },
   "file_extension": ".py",
   "mimetype": "text/x-python",
   "name": "python",
   "nbconvert_exporter": "python",
   "pygments_lexer": "ipython3",
   "version": "3.11.0"
  }
 },
 "nbformat": 4,
 "nbformat_minor": 5
}
