{
 "cells": [
  {
   "cell_type": "code",
   "execution_count": 52,
   "id": "f3e72abd-bf8a-40f7-a1d5-83fc735c10eb",
   "metadata": {},
   "outputs": [],
   "source": [
    "import os\n",
    "import sys\n",
    "import re\n",
    "import json\n",
    "import glob\n",
    "import datetime\n",
    "from collections import Counter\n",
    "\n",
    "import pandas as pd\n",
    "from matplotlib import pyplot as plt\n",
    "import seaborn as sns\n",
    "\n",
    "from nltk.corpus import stopwords\n",
    "from wordcloud import WordCloud\n",
    "from datetime import datetime, timedelta"
   ]
  },
  {
   "cell_type": "code",
   "execution_count": 2,
   "id": "4781b773-ab60-4414-a521-10f91570ba1e",
   "metadata": {},
   "outputs": [],
   "source": [
    "os.chdir('..') "
   ]
  },
  {
   "cell_type": "code",
   "execution_count": 3,
   "id": "2316289d-d820-495b-bfc4-ca18530b342b",
   "metadata": {},
   "outputs": [],
   "source": [
    "from src.loader import SlackDataLoader"
   ]
  },
  {
   "cell_type": "code",
   "execution_count": 4,
   "id": "b7407a58-077c-4e1c-b284-45de153840b1",
   "metadata": {},
   "outputs": [
    {
     "name": "stdout",
     "output_type": "stream",
     "text": [
      "Output File: slack_data.csv\n",
      "Path: data\\Anonymized_B6SlackExport_25Nov23\\anonymized\n",
      "Channel: data\\Anonymized_B6SlackExport_25Nov23\\anonymized\\channels.json\n",
      "Userfile: data\\Anonymized_B6SlackExport_25Nov23\\anonymized\\users.json\n"
     ]
    }
   ],
   "source": [
    "from src.config import cfg"
   ]
  },
  {
   "cell_type": "code",
   "execution_count": 5,
   "id": "4aecda50-9d8c-4e55-8089-6d28c48496fc",
   "metadata": {},
   "outputs": [],
   "source": [
    "import src.utils as utils"
   ]
  },
  {
   "cell_type": "code",
   "execution_count": 6,
   "id": "56eb6d4d-1378-408b-b23b-b6cca7acb092",
   "metadata": {},
   "outputs": [],
   "source": [
    "slack_data_loader = SlackDataLoader(cfg.path)"
   ]
  },
  {
   "cell_type": "code",
   "execution_count": 13,
   "id": "f2666455-849c-42df-b9ba-f2f85ca428a0",
   "metadata": {},
   "outputs": [],
   "source": [
    "user_names_by_id, user_ids_by_name = slack_data_loader.get_user_map()"
   ]
  },
  {
   "cell_type": "code",
   "execution_count": 14,
   "id": "91212154-db7d-4f74-981b-e3ba1a3456cc",
   "metadata": {},
   "outputs": [],
   "source": [
    "def calculate_user_metrics(messages):\n",
    "    user_metrics = {}\n",
    "\n",
    "    for message in messages:\n",
    "        user_id = message.get('user')\n",
    "        if user_id is not None:\n",
    "            user_name = user_names_by_id.get(user_id)\n",
    "            if user_name is not None:\n",
    "                # Initialize metrics if the user is not in the dictionary\n",
    "                if user_name not in user_metrics:\n",
    "                    user_metrics[user_name] = {'Reply count': 0, 'Mention count': 0, 'Message count': 0}\n",
    "\n",
    "                # Update metrics\n",
    "                user_metrics[user_name]['Reply count'] += message.get('reply_count', 0)\n",
    "                user_metrics[user_name]['Mention count'] += message.get('mention_count', 0)\n",
    "                user_metrics[user_name]['Message count'] += 1\n",
    "\n",
    "    return user_metrics"
   ]
  },
  {
   "cell_type": "code",
   "execution_count": 17,
   "id": "54068677-6fd5-474e-8bd2-04f203ba14b8",
   "metadata": {},
   "outputs": [],
   "source": [
    "# Analyze each channel\n",
    "all_channel_messages = []\n",
    "for channel in slack_data_loader.channels:\n",
    "    channel_name = channel['name']\n",
    "    channel_messages = slack_data_loader.get_channel_messages(channel_name)\n",
    "    all_channel_messages.extend(channel_messages)"
   ]
  },
  {
   "cell_type": "code",
   "execution_count": 18,
   "id": "6094145b-9f21-4657-ae98-8db657c799b3",
   "metadata": {},
   "outputs": [],
   "source": [
    "# Calculate user metrics for all messages\n",
    "user_metrics = calculate_user_metrics(all_channel_messages)"
   ]
  },
  {
   "cell_type": "code",
   "execution_count": 19,
   "id": "48b80b3e-e966-4f7b-89c8-49282512dee4",
   "metadata": {},
   "outputs": [],
   "source": [
    "user_metrics_df = pd.DataFrame.from_dict(user_metrics, orient='index')"
   ]
  },
  {
   "cell_type": "code",
   "execution_count": 20,
   "id": "1fdd4bbf-7134-44d3-a46b-248c7a210382",
   "metadata": {},
   "outputs": [],
   "source": [
    "top_users_reply = user_metrics_df.sort_values(by='Reply count', ascending=False).head(10)\n",
    "bottom_users_reply = user_metrics_df.sort_values(by='Reply count').head(10)"
   ]
  },
  {
   "cell_type": "code",
   "execution_count": 21,
   "id": "eeabbaad-103a-464b-b486-fb072caa7faa",
   "metadata": {},
   "outputs": [
    {
     "name": "stdout",
     "output_type": "stream",
     "text": [
      "          Reply count  Mention count  Message count\n",
      "Cristian          727              0            902\n",
      "Vanessa           614              0           1554\n",
      "Brenda            453              0            910\n",
      "Brian             443              0            458\n",
      "Travis            435              0           1178\n",
      "Amy               414              0           1206\n",
      "Judith            378              0            675\n",
      "April             363              0           1070\n",
      "Michelle          355              0            473\n",
      "Brady             341              0            706\n"
     ]
    }
   ],
   "source": [
    "print(top_users_reply)"
   ]
  },
  {
   "cell_type": "code",
   "execution_count": 22,
   "id": "2ffc69fe-1602-4fef-99c9-f013881ae6d3",
   "metadata": {},
   "outputs": [
    {
     "name": "stdout",
     "output_type": "stream",
     "text": [
      "          Reply count  Mention count  Message count\n",
      "Paul                0              0              1\n",
      "Blake               0              0              4\n",
      "Erica               0              0              5\n",
      "Nicole              0              0             18\n",
      "Glen                0              0             13\n",
      "Patricia            0              0             31\n",
      "Holly               0              0              6\n",
      "David               0              0              3\n",
      "Claudia             0              0              4\n",
      "Patrick             1              0             27\n"
     ]
    }
   ],
   "source": [
    "print(bottom_users_reply)"
   ]
  },
  {
   "cell_type": "code",
   "execution_count": 23,
   "id": "bca07147-81f7-4804-bdd4-0471bd25abab",
   "metadata": {},
   "outputs": [],
   "source": [
    "top_users_mention = user_metrics_df.sort_values(by='Mention count', ascending=False).head(10)\n",
    "bottom_users_mention = user_metrics_df.sort_values(by='Mention count').head(10)"
   ]
  },
  {
   "cell_type": "code",
   "execution_count": 24,
   "id": "4b5f4339-2c55-4611-b9c7-d00295c28692",
   "metadata": {},
   "outputs": [
    {
     "name": "stdout",
     "output_type": "stream",
     "text": [
      "          Reply count  Mention count  Message count\n",
      "Garrett            28              0            222\n",
      "Melissa             7              0             37\n",
      "Phillip           273              0            803\n",
      "Samuel             85              0            162\n",
      "Judith            378              0            675\n",
      "Ashley            257              0            411\n",
      "Vernon              6              0             39\n",
      "Cheryl             60              0            189\n",
      "Michelle          355              0            473\n",
      "Leah               11              0             14\n"
     ]
    }
   ],
   "source": [
    "print(top_users_mention)"
   ]
  },
  {
   "cell_type": "code",
   "execution_count": 25,
   "id": "8dd13748-2f0a-4ac3-a94c-e1cae1fb7c25",
   "metadata": {},
   "outputs": [
    {
     "name": "stdout",
     "output_type": "stream",
     "text": [
      "          Reply count  Mention count  Message count\n",
      "Garrett            28              0            222\n",
      "Phillip           273              0            803\n",
      "Samuel             85              0            162\n",
      "Judith            378              0            675\n",
      "Ashley            257              0            411\n",
      "Vernon              6              0             39\n",
      "Cheryl             60              0            189\n",
      "Michelle          355              0            473\n",
      "Leah               11              0             14\n",
      "Michael            38              0            337\n"
     ]
    }
   ],
   "source": [
    "print(bottom_users_mention)"
   ]
  },
  {
   "cell_type": "code",
   "execution_count": 26,
   "id": "1e322d23-57bc-453e-b0ab-4c1cca533d9f",
   "metadata": {},
   "outputs": [],
   "source": [
    "top_users_message = user_metrics_df.sort_values(by='Message count', ascending=False).head(10)\n",
    "bottom_users_message = user_metrics_df.sort_values(by='Message count').head(10)"
   ]
  },
  {
   "cell_type": "code",
   "execution_count": 27,
   "id": "4b753a73-486f-4663-b5c0-70d0a3fbc841",
   "metadata": {},
   "outputs": [
    {
     "name": "stdout",
     "output_type": "stream",
     "text": [
      "          Reply count  Mention count  Message count\n",
      "Vanessa           614              0           1554\n",
      "Amy               414              0           1206\n",
      "Travis            435              0           1178\n",
      "April             363              0           1070\n",
      "Brenda            453              0            910\n",
      "Cristian          727              0            902\n",
      "Phillip           273              0            803\n",
      "Brady             341              0            706\n",
      "Judith            378              0            675\n",
      "Joshua            308              0            575\n"
     ]
    }
   ],
   "source": [
    "print(top_users_message)"
   ]
  },
  {
   "cell_type": "code",
   "execution_count": 28,
   "id": "0ce2169a-bc8c-490c-82cc-596bc2c76979",
   "metadata": {},
   "outputs": [
    {
     "name": "stdout",
     "output_type": "stream",
     "text": [
      "             Reply count  Mention count  Message count\n",
      "Paul                   0              0              1\n",
      "Audrey                 8              0              3\n",
      "David                  0              0              3\n",
      "Claudia                0              0              4\n",
      "Blake                  0              0              4\n",
      "Erica                  0              0              5\n",
      "Holly                  0              0              6\n",
      "Christopher            4              0              7\n",
      "Glen                   0              0             13\n",
      "Leah                  11              0             14\n"
     ]
    }
   ],
   "source": [
    "print(bottom_users_message)"
   ]
  },
  {
   "cell_type": "code",
   "execution_count": 29,
   "id": "300a1ac5-0cfa-45fd-9c29-842cd6608207",
   "metadata": {},
   "outputs": [],
   "source": [
    "# Function to calculate reaction count for each user\n",
    "def calculate_reaction_count(messages):\n",
    "    reaction_count = {}\n",
    "\n",
    "    for message in messages:\n",
    "        user_id = message.get('user')\n",
    "        reactions = message.get('reactions', [])\n",
    "\n",
    "        if user_id is not None:\n",
    "            user_name = user_names_by_id.get(user_id)\n",
    "            if user_name is not None:\n",
    "                # Initialize reaction count if the user is not in the dictionary\n",
    "                if user_name not in reaction_count:\n",
    "                    reaction_count[user_name] = 0\n",
    "\n",
    "                # Update reaction count\n",
    "                reaction_count[user_name] += len(reactions)\n",
    "\n",
    "    return reaction_count"
   ]
  },
  {
   "cell_type": "code",
   "execution_count": 30,
   "id": "16bf6edf-1c67-4af3-a1c7-90a49b06bf66",
   "metadata": {},
   "outputs": [],
   "source": [
    "reaction_count = calculate_reaction_count(all_channel_messages)\n",
    "reaction_count_df = pd.DataFrame.from_dict(reaction_count, orient='index', columns=['Reaction count'])"
   ]
  },
  {
   "cell_type": "code",
   "execution_count": 31,
   "id": "b68e75c1-7a4c-44f9-b7d0-1328df066d48",
   "metadata": {},
   "outputs": [],
   "source": [
    "top_users_reaction = reaction_count_df.sort_values(by='Reaction count', ascending=False).head(10)\n",
    "bottom_users_reaction = reaction_count_df.sort_values(by='Reaction count').head(10)"
   ]
  },
  {
   "cell_type": "code",
   "execution_count": 32,
   "id": "c0871ccd-5b5e-47c3-b6ec-fab110763551",
   "metadata": {},
   "outputs": [
    {
     "name": "stdout",
     "output_type": "stream",
     "text": [
      "          Reaction count\n",
      "Vanessa              427\n",
      "April                335\n",
      "Amy                  332\n",
      "Travis               248\n",
      "Cristian             243\n",
      "Judith               236\n",
      "Brady                223\n",
      "Phillip              222\n",
      "Joshua               196\n",
      "Brian                190\n"
     ]
    }
   ],
   "source": [
    "print(top_users_reaction)"
   ]
  },
  {
   "cell_type": "code",
   "execution_count": 33,
   "id": "84793dce-81d0-4547-901e-e4a2dc5d985a",
   "metadata": {},
   "outputs": [
    {
     "name": "stdout",
     "output_type": "stream",
     "text": [
      "         Reaction count\n",
      "Paul                  0\n",
      "Holly                 0\n",
      "David                 0\n",
      "Nicole                0\n",
      "Claudia               0\n",
      "Glen                  0\n",
      "Audrey                0\n",
      "Erica                 0\n",
      "Blake                 0\n",
      "Randy                 1\n"
     ]
    }
   ],
   "source": [
    "print(bottom_users_reaction)"
   ]
  },
  {
   "cell_type": "code",
   "execution_count": 34,
   "id": "5fc69471-7823-41a4-adc4-465feceb804c",
   "metadata": {},
   "outputs": [],
   "source": [
    "# Function to extract messages with their metadata\n",
    "def extract_messages_with_metadata(messages):\n",
    "    extracted_messages = []\n",
    "\n",
    "    for message in messages:\n",
    "        user_id = message.get('user')\n",
    "        user_name = user_names_by_id.get(user_id)\n",
    "        timestamp = message.get('ts')\n",
    "        text = message.get('text', '')\n",
    "        reply_count = message.get('reply_count', 0)\n",
    "        reaction_count = len(message.get('reactions', []))\n",
    "        mention_count = message.get('mention_count', 0)\n",
    "\n",
    "        extracted_messages.append({\n",
    "            'User': user_name,\n",
    "            'Timestamp': timestamp,\n",
    "            'Text': text,\n",
    "            'Reply count': reply_count,\n",
    "            'Reaction count': reaction_count,\n",
    "            'Mention count': mention_count\n",
    "        })\n",
    "\n",
    "    return extracted_messages"
   ]
  },
  {
   "cell_type": "code",
   "execution_count": 35,
   "id": "7a0eebfd-94d1-44f3-9a8e-818364db11a9",
   "metadata": {},
   "outputs": [],
   "source": [
    "messages_with_metadata = extract_messages_with_metadata(all_channel_messages)"
   ]
  },
  {
   "cell_type": "code",
   "execution_count": 36,
   "id": "474666aa-e050-489d-b093-7c419b6a5b46",
   "metadata": {},
   "outputs": [],
   "source": [
    "messages_df = pd.DataFrame(messages_with_metadata)"
   ]
  },
  {
   "cell_type": "code",
   "execution_count": 37,
   "id": "67636d3c-a734-47f6-a6b5-51d0ee5677bd",
   "metadata": {},
   "outputs": [],
   "source": [
    "top_messages_by_replies = messages_df.sort_values(by='Reply count', ascending=False).head(10)\n",
    "top_messages_by_reactions = messages_df.sort_values(by='Reaction count', ascending=False).head(10)\n",
    "top_messages_by_mentions = messages_df.sort_values(by='Mention count', ascending=False).head(10)"
   ]
  },
  {
   "cell_type": "code",
   "execution_count": 38,
   "id": "395e625c-31c2-4635-ae2b-ab67c1de2dd6",
   "metadata": {},
   "outputs": [
    {
     "name": "stdout",
     "output_type": "stream",
     "text": [
      "          User          Timestamp  \\\n",
      "17548     Mark  1665161559.335679   \n",
      "8102     Brian  1668169350.223689   \n",
      "2332    Steven  1663072090.617319   \n",
      "16839    Brady  1664916746.043439   \n",
      "6703     Brian  1666700374.650289   \n",
      "11701   Yvonne  1666900816.202839   \n",
      "10842  Anthony  1662400744.293029   \n",
      "11245   Judith  1666778289.497499   \n",
      "12822  Vanessa  1667286619.471889   \n",
      "18429   Ashley  1666858629.076399   \n",
      "\n",
      "                                                    Text  Reply count  \\\n",
      "17548  <!here> I'm getting this error when I try to p...          168   \n",
      "8102           <@U03V1AM5TFA> how many crushes you have?           75   \n",
      "2332   First Impression: People think I am older than...           63   \n",
      "16839  1. How do I find my jupyter notebook file in m...           61   \n",
      "6703   How many here follow football so much? I think...           57   \n",
      "11701  if Meta stock's decline continues like this,Fa...           57   \n",
      "10842                    Ethiopian New year Loading ....           54   \n",
      "11245     how is this possible :grin: see the reply time           48   \n",
      "12822  Hello\\n1. <@U03UVHCV6KB>\\n2. <@U03UG5VFN03>\\n3...           45   \n",
      "18429  <@U03UUR571A5> Solutions to funding account an...           44   \n",
      "\n",
      "       Reaction count  Mention count  \n",
      "17548               0              0  \n",
      "8102                0              0  \n",
      "2332                1              0  \n",
      "16839               0              0  \n",
      "6703                3              0  \n",
      "11701               0              0  \n",
      "10842               0              0  \n",
      "11245               0              0  \n",
      "12822               0              0  \n",
      "18429               0              0  \n"
     ]
    }
   ],
   "source": [
    "print(top_messages_by_replies)"
   ]
  },
  {
   "cell_type": "code",
   "execution_count": 39,
   "id": "824c529c-0be6-4b3f-9537-f7ab0f9ce472",
   "metadata": {},
   "outputs": [
    {
     "name": "stdout",
     "output_type": "stream",
     "text": [
      "            User          Timestamp  \\\n",
      "18306  Katherine  1666962823.974699   \n",
      "9167        Luis  1666617813.618849   \n",
      "9267   Katherine  1668174930.647689   \n",
      "4812       Brady  1665404186.146279   \n",
      "1301     Vanessa  1662015986.569899   \n",
      "537       Joshua  1661343645.627299   \n",
      "6641     Vanessa  1666699201.519759   \n",
      "6967     Vanessa  1666895793.439309   \n",
      "11387      April  1667700160.574059   \n",
      "74         Nancy  1661170288.907809   \n",
      "\n",
      "                                                    Text  Reply count  \\\n",
      "18306  <@U03UJGP0C68> <@U03UUR571A5> <@U03V785NLSU> p...            0   \n",
      "9167   <!channel>\\nThere will be no careers exercise ...            0   \n",
      "9267   Who wants to know the secret to great intervie...            4   \n",
      "4812   High: working in a group, united won, CR7 700\\...            0   \n",
      "1301   *<!here>* Good morning Community! We are very ...            0   \n",
      "537    My nose is too big I wispher with a straw. I a...            8   \n",
      "6641   *RING, RING, RIIIIIIIINGGGGG!!!* :phone:*<!her...            0   \n",
      "6967                  Hey guys, Am back, with new energy            1   \n",
      "11387  We had a plan to meet today 2:00 EAT at Friend...           36   \n",
      "74         Hachalu Hundessa - Maalan Jira! **NEW**2015**            0   \n",
      "\n",
      "       Reaction count  Mention count  \n",
      "18306               7              0  \n",
      "9167                7              0  \n",
      "9267                5              0  \n",
      "4812                5              0  \n",
      "1301                5              0  \n",
      "537                 5              0  \n",
      "6641                5              0  \n",
      "6967                5              0  \n",
      "11387               5              0  \n",
      "74                  5              0  \n"
     ]
    }
   ],
   "source": [
    "print(top_messages_by_reactions)"
   ]
  },
  {
   "cell_type": "code",
   "execution_count": 40,
   "id": "b62ce423-5cc0-49a4-a228-d3371e44ff2a",
   "metadata": {},
   "outputs": [
    {
     "name": "stdout",
     "output_type": "stream",
     "text": [
      "           User          Timestamp                                   Text  \\\n",
      "0       Garrett  1660301317.785879  <@U03TEPYRM2P> has joined the channel   \n",
      "13336    Steven  1661704582.743629  <@U03U1FQKEMV> has joined the channel   \n",
      "13343  Brittany  1661704583.135599  <@U03UKL27B0R> has joined the channel   \n",
      "13342  Veronica  1661704583.079989  <@U03UUMM7Y8H> has joined the channel   \n",
      "13341      Eric  1661704583.024669  <@U03UUN8M4RX> has joined the channel   \n",
      "13340     Randy  1661704582.970739  <@U03UD63A8PP> has joined the channel   \n",
      "13339  Samantha  1661704582.913749  <@U03UL5LSTG9> has joined the channel   \n",
      "13338  Michelle  1661704582.853759  <@U03UJN29Y4C> has joined the channel   \n",
      "13337  Jennifer  1661704582.799139  <@U03UG1Z21JP> has joined the channel   \n",
      "13335       Amy  1661704582.688899  <@U03UUR571A5> has joined the channel   \n",
      "\n",
      "       Reply count  Reaction count  Mention count  \n",
      "0                0               0              0  \n",
      "13336            0               0              0  \n",
      "13343            0               0              0  \n",
      "13342            0               0              0  \n",
      "13341            0               0              0  \n",
      "13340            0               0              0  \n",
      "13339            0               0              0  \n",
      "13338            0               0              0  \n",
      "13337            0               0              0  \n",
      "13335            0               0              0  \n"
     ]
    }
   ],
   "source": [
    "print(top_messages_by_mentions)"
   ]
  },
  {
   "cell_type": "code",
   "execution_count": 45,
   "id": "39092253-073b-4812-8b91-07f4aa4e5ea1",
   "metadata": {},
   "outputs": [],
   "source": [
    "# Function to calculate activity metrics for each channel\n",
    "def calculate_channel_activity(channels):\n",
    "    channel_activity = {}\n",
    "\n",
    "    for channel in channels:\n",
    "        channel_name = channel['name']\n",
    "        channel_messages = slack_data_loader.get_channel_messages(channel_name)\n",
    "\n",
    "        message_count = len(channel_messages)\n",
    "        reply_count = sum(message.get('reply_count', 0) for message in channel_messages)\n",
    "        reaction_count = sum(len(message.get('reactions', [])) for message in channel_messages)\n",
    "\n",
    "        channel_activity[channel_name] = {\n",
    "            'Message count': message_count,\n",
    "            'Reply and Reaction count': reply_count + reaction_count\n",
    "        }\n",
    "\n",
    "    return channel_activity"
   ]
  },
  {
   "cell_type": "code",
   "execution_count": 46,
   "id": "14361fda-d655-4536-93ec-31b8588b984f",
   "metadata": {},
   "outputs": [],
   "source": [
    "channel_activity = calculate_channel_activity(slack_data_loader.channels)"
   ]
  },
  {
   "cell_type": "code",
   "execution_count": 47,
   "id": "d37494c7-4333-4d77-94ca-f5169db00208",
   "metadata": {},
   "outputs": [],
   "source": [
    "channel_activity_df = pd.DataFrame.from_dict(channel_activity, orient='index')"
   ]
  },
  {
   "cell_type": "code",
   "execution_count": 48,
   "id": "c77ff4e1-3840-4f1d-8521-e38d0d6986a4",
   "metadata": {},
   "outputs": [],
   "source": [
    "most_active_channel = channel_activity_df.idxmax(axis=0)['Reply and Reaction count']"
   ]
  },
  {
   "cell_type": "code",
   "execution_count": 50,
   "id": "52d32d9b-8376-4294-8c7e-6ac906ef142e",
   "metadata": {},
   "outputs": [
    {
     "name": "stdout",
     "output_type": "stream",
     "text": [
      "all-community-building\n"
     ]
    }
   ],
   "source": [
    "print(most_active_channel)"
   ]
  },
  {
   "cell_type": "code",
   "execution_count": 51,
   "id": "c9225e5b-fc69-44ed-875e-19ee596e0cd8",
   "metadata": {},
   "outputs": [
    {
     "data": {
      "image/png": "[encoded data removed]",
      "text/plain": [
       "<Figure size 1000x600 with 2 Axes>"
      ]
     },
     "metadata": {},
     "output_type": "display_data"
    }
   ],
   "source": [
    "# Plot 2D scatter plot\n",
    "plt.figure(figsize=(10, 6))\n",
    "plt.scatter(channel_activity_df['Message count'], channel_activity_df['Reply and Reaction count'], c=range(len(channel_activity_df)), cmap='viridis', alpha=0.7)\n",
    "plt.colorbar(label='Channel Index')\n",
    "plt.title('2D Scatter Plot of Channel Activity')\n",
    "plt.xlabel('Number of Messages')\n",
    "plt.ylabel('Sum of Replies and Reactions')\n",
    "plt.grid(True)\n",
    "plt.show()"
   ]
  },
  {
   "cell_type": "code",
   "execution_count": 92,
   "id": "7e5ef16f-48c5-476c-adf3-7fcb4b34374a",
   "metadata": {},
   "outputs": [],
   "source": [
    "# Function to calculate the time difference between two Unix timestamps\n",
    "def calculate_time_difference_unix(timestamp1, timestamp2):\n",
    "    return (float(timestamp2) - float(timestamp1)) / 60.0  # Convert to minutes"
   ]
  },
  {
   "cell_type": "code",
   "execution_count": 93,
   "id": "8d51f3cd-5751-468e-92b0-3884d8b85eef",
   "metadata": {},
   "outputs": [],
   "source": [
    "# Function to calculate the fraction of messages replied within the first 5 minutes\n",
    "def calculate_fraction_replied_within_5_minutes(messages):\n",
    "    replied_within_5_minutes = 0\n",
    "    total_messages = len(messages)\n",
    "\n",
    "    for message in messages:\n",
    "        message_timestamp = float(message.get('ts'))\n",
    "        replies = message.get('replies', [])\n",
    "\n",
    "        if replies:\n",
    "            first_reply_timestamp = float(replies[0].get('ts'))\n",
    "            time_difference = calculate_time_difference_unix(message_timestamp, first_reply_timestamp)\n",
    "\n",
    "            if time_difference <= 5:\n",
    "                replied_within_5_minutes += 1\n",
    "\n",
    "    return replied_within_5_minutes / total_messages\n"
   ]
  },
  {
   "cell_type": "code",
   "execution_count": 94,
   "id": "4e013aaa-2b02-4f75-b598-5d0a884b56a1",
   "metadata": {},
   "outputs": [],
   "source": [
    "fraction_replied_within_5_minutes = calculate_fraction_replied_within_5_minutes(all_channel_messages)"
   ]
  },
  {
   "cell_type": "code",
   "execution_count": 104,
   "id": "ad7168ab-b96c-40d6-b08d-2c68b2fce537",
   "metadata": {},
   "outputs": [
    {
     "name": "stdout",
     "output_type": "stream",
     "text": [
      "\n",
      "The fraction of messages replied within the first 5 minutes is: 6.77%\n"
     ]
    }
   ],
   "source": [
    "print(f\"\\nThe fraction of messages replied within the first 5 minutes is: {fraction_replied_within_5_minutes:.2%}\")"
   ]
  },
  {
   "cell_type": "code",
   "execution_count": 110,
   "id": "4204da7a-0b10-45fb-bf30-1ae8b9b849e5",
   "metadata": {},
   "outputs": [],
   "source": [
    "# Function to extract data for the 2D scatter plot\n",
    "def extract_scatter_plot_data(messages):\n",
    "    scatter_plot_data = []\n",
    "\n",
    "    for message in messages:\n",
    "        user_id = message.get('user')\n",
    "        user_name = user_names_by_id.get(user_id)\n",
    "        timestamp = float(message.get('ts'))\n",
    "        replies = message.get('replies', [])\n",
    "\n",
    "        if replies:\n",
    "            first_reply_timestamp = float(replies[0].get('ts'))\n",
    "            time_difference = calculate_time_difference_unix(timestamp, first_reply_timestamp)\n",
    "            time_of_day = (timestamp % (24 * 3600)) / 3600.0  # Convert to hours\n",
    "\n",
    "            # Use channel index as color\n",
    "            channel = next((channel for channel in slack_data_loader.channels if channel['id'] == message.get('channel')), None)\n",
    "            channel_index = slack_loader.channels.index(channel) if channel is not None else -1\n",
    "            \n",
    "            scatter_plot_data.append({\n",
    "                'Time Difference (minutes)': time_difference,\n",
    "                'Time of Day (hours)': time_of_day,\n",
    "                'Channel Index': channel_index\n",
    "            })\n",
    "\n",
    "    return scatter_plot_data\n"
   ]
  },
  {
   "cell_type": "code",
   "execution_count": 111,
   "id": "3fae074f-8770-4cb1-b96e-3348ad251212",
   "metadata": {},
   "outputs": [],
   "source": [
    "# Extract data for the 2D scatter plot\n",
    "scatter_plot_data = extract_scatter_plot_data(all_channel_messages)"
   ]
  },
  {
   "cell_type": "code",
   "execution_count": 112,
   "id": "e89f90e2-fca7-4ab5-a9c8-5744d106c835",
   "metadata": {},
   "outputs": [],
   "source": [
    "scatter_plot_df = pd.DataFrame(scatter_plot_data)"
   ]
  },
  {
   "cell_type": "code",
   "execution_count": null,
   "id": "f6f9123c-905c-40c8-b2d9-fbfd3bcb3494",
   "metadata": {},
   "outputs": [],
   "source": []
  }
 ],
 "metadata": {
  "kernelspec": {
   "display_name": "Python 3 (ipykernel)",
   "language": "python",
   "name": "python3"
  },
  "language_info": {
   "codemirror_mode": {
    "name": "ipython",
    "version": 3
   },
   "file_extension": ".py",
   "mimetype": "text/x-python",
   "name": "python",
   "nbconvert_exporter": "python",
   "pygments_lexer": "ipython3",
   "version": "3.11.0"
  }
 },
 "nbformat": 4,
 "nbformat_minor": 5
}
