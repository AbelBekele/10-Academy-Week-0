{
 "cells": [
  {
   "cell_type": "code",
   "execution_count": 13,
   "metadata": {},
   "outputs": [],
   "source": [
    "# Create a Database\n",
    "import psycopg2\n",
    "from psycopg2 import sql"
   ]
  },
  {
   "cell_type": "code",
   "execution_count": 14,
   "metadata": {},
   "outputs": [],
   "source": [
    "connection_params = {\n",
    "    \"host\": \"localhost\",\n",
    "    \"user\": \"postgres\",\n",
    "    \"password\": \"1001\",\n",
    "    \"port\": \"5432\"\n",
    "}"
   ]
  },
  {
   "cell_type": "code",
   "execution_count": 15,
   "metadata": {},
   "outputs": [],
   "source": [
    "db_name = 'task-1_features'\n",
    "sql_file_path = './EDA Task-1.sql'"
   ]
  },
  {
   "cell_type": "code",
   "execution_count": 16,
   "metadata": {},
   "outputs": [],
   "source": [
    "conn = psycopg2.connect(**connection_params)\n",
    "conn.autocommit = True  # Enable autocommit to execute DDL statements\n",
    "\n",
    "# Create a new database\n",
    "with conn.cursor() as cursor:\n",
    "    create_db_query = sql.SQL(\"CREATE DATABASE {}\").format(sql.Identifier(db_name))\n",
    "    cursor.execute(create_db_query)\n",
    "\n",
    "# Close the connection to the default database\n",
    "conn.close()"
   ]
  },
  {
   "cell_type": "code",
   "execution_count": 17,
   "metadata": {},
   "outputs": [],
   "source": [
    "# Connect to the newly created database\n",
    "connection_params[\"database\"] = db_name\n",
    "conn = psycopg2.connect(**connection_params)\n",
    "conn.autocommit = True\n",
    "\n",
    "# Execute the SQL file to define the schema\n",
    "with conn.cursor() as cursor:\n",
    "    with open(sql_file_path, \"r\") as file:\n",
    "        sql_file_content = file.read()\n",
    "        cursor.execute(sql_file_content)\n",
    "\n",
    "# Close the connection to the new database\n",
    "conn.close()"
   ]
  },
  {
   "cell_type": "code",
   "execution_count": 18,
   "metadata": {},
   "outputs": [
    {
     "ename": "DuplicateTable",
     "evalue": "relation \"users\" already exists\n",
     "output_type": "error",
     "traceback": [
      "\u001b[1;31m---------------------------------------------------------------------------\u001b[0m",
      "\u001b[1;31mDuplicateTable\u001b[0m                            Traceback (most recent call last)",
      "\u001b[1;32mc:\\Users\\Abel\\Documents\\10 Academy\\10-Academy-Week-0\\db_schemas\\EDA Task-1 Features db.ipynb Cell 6\u001b[0m line \u001b[0;36m1\n\u001b[0;32m      <a href='vscode-notebook-cell:/c%3A/Users/Abel/Documents/10%20Academy/10-Academy-Week-0/db_schemas/EDA%20Task-1%20Features%20db.ipynb#W5sZmlsZQ%3D%3D?line=8'>9</a>\u001b[0m \u001b[39mwith\u001b[39;00m \u001b[39mopen\u001b[39m(sql_file_path, \u001b[39m\"\u001b[39m\u001b[39mr\u001b[39m\u001b[39m\"\u001b[39m) \u001b[39mas\u001b[39;00m file:\n\u001b[0;32m     <a href='vscode-notebook-cell:/c%3A/Users/Abel/Documents/10%20Academy/10-Academy-Week-0/db_schemas/EDA%20Task-1%20Features%20db.ipynb#W5sZmlsZQ%3D%3D?line=9'>10</a>\u001b[0m     sql_file_content \u001b[39m=\u001b[39m file\u001b[39m.\u001b[39mread()\n\u001b[1;32m---> <a href='vscode-notebook-cell:/c%3A/Users/Abel/Documents/10%20Academy/10-Academy-Week-0/db_schemas/EDA%20Task-1%20Features%20db.ipynb#W5sZmlsZQ%3D%3D?line=10'>11</a>\u001b[0m     cursor\u001b[39m.\u001b[39;49mexecute(sql_file_content)\n",
      "\u001b[1;31mDuplicateTable\u001b[0m: relation \"users\" already exists\n"
     ]
    }
   ],
   "source": [
    "# Close the connection to the default database\n",
    "conn.close()\n",
    "# Connect to the newly created database\n",
    "connection_params[\"database\"] = db_name\n",
    "conn = psycopg2.connect(**connection_params)\n",
    "conn.autocommit = True\n",
    "# Execute the SQL file to define the schema\n",
    "with conn.cursor() as cursor:\n",
    "    with open(sql_file_path, \"r\") as file:\n",
    "        sql_file_content = file.read()\n",
    "        cursor.execute(sql_file_content)"
   ]
  }
 ],
 "metadata": {
  "kernelspec": {
   "display_name": "Python 3 (ipykernel)",
   "language": "python",
   "name": "python3"
  },
  "language_info": {
   "codemirror_mode": {
    "name": "ipython",
    "version": 3
   },
   "file_extension": ".py",
   "mimetype": "text/x-python",
   "name": "python",
   "nbconvert_exporter": "python",
   "pygments_lexer": "ipython3",
   "version": "3.11.0"
  }
 },
 "nbformat": 4,
 "nbformat_minor": 2
}
