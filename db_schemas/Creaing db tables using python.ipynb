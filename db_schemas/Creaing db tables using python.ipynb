{
 "cells": [
  {
   "cell_type": "code",
   "execution_count": 28,
   "metadata": {},
   "outputs": [],
   "source": [
    "# Import functions\n",
    "import psycopg2\n",
    "from psycopg2 import sql"
   ]
  },
  {
   "cell_type": "code",
   "execution_count": 29,
   "metadata": {},
   "outputs": [],
   "source": [
    "connection_params = {\n",
    "    \"host\": \"localhost\",\n",
    "    \"user\": \"postgres\",\n",
    "    \"password\": \"1001\",\n",
    "    \"port\": \"5432\"\n",
    "}"
   ]
  },
  {
   "cell_type": "markdown",
   "metadata": {},
   "source": [
    "# Creating EDA Task-1 Features"
   ]
  },
  {
   "cell_type": "code",
   "execution_count": null,
   "metadata": {},
   "outputs": [],
   "source": [
    "db_name = 'task-1_features'\n",
    "sql_file_path = './EDA Task-1.sql'"
   ]
  },
  {
   "cell_type": "code",
   "execution_count": 31,
   "metadata": {},
   "outputs": [],
   "source": [
    "conn = psycopg2.connect(**connection_params)\n",
    "conn.autocommit = True  # Enable autocommit to execute DDL statements\n",
    "\n",
    "# Create a new database\n",
    "with conn.cursor() as cursor:\n",
    "    create_db_query = sql.SQL(\"CREATE DATABASE {}\").format(sql.Identifier(db_name))\n",
    "    cursor.execute(create_db_query)\n",
    "\n",
    "# Close the connection to the default database\n",
    "conn.close()"
   ]
  },
  {
   "cell_type": "code",
   "execution_count": 27,
   "metadata": {},
   "outputs": [],
   "source": [
    "# Connect to the newly created database\n",
    "connection_params[\"database\"] = db_name\n",
    "conn = psycopg2.connect(**connection_params)\n",
    "conn.autocommit = True\n",
    "\n",
    "# Execute the SQL file to define the schema\n",
    "with conn.cursor() as cursor:\n",
    "    with open(sql_file_path, \"r\") as file:\n",
    "        sql_file_content = file.read()\n",
    "        cursor.execute(sql_file_content)\n",
    "\n",
    "# Close the connection to the new database\n",
    "conn.close()"
   ]
  },
  {
   "cell_type": "markdown",
   "metadata": {},
   "source": [
    "# Creating Time based analysis Task-2 Features"
   ]
  },
  {
   "cell_type": "code",
   "execution_count": null,
   "metadata": {},
   "outputs": [],
   "source": [
    "db_name = 'task-2_features'\n",
    "sql_file_path = './Time based analysis Task-2.sql'"
   ]
  },
  {
   "cell_type": "code",
   "execution_count": null,
   "metadata": {},
   "outputs": [],
   "source": [
    "conn = psycopg2.connect(**connection_params)\n",
    "conn.autocommit = True  # Enable autocommit to execute DDL statements\n",
    "\n",
    "# Create a new database\n",
    "with conn.cursor() as cursor:\n",
    "    create_db_query = sql.SQL(\"CREATE DATABASE {}\").format(sql.Identifier(db_name))\n",
    "    cursor.execute(create_db_query)\n",
    "\n",
    "# Close the connection to the default database\n",
    "conn.close()"
   ]
  },
  {
   "cell_type": "code",
   "execution_count": null,
   "metadata": {},
   "outputs": [],
   "source": [
    "# Connect to the newly created database\n",
    "connection_params[\"database\"] = db_name\n",
    "conn = psycopg2.connect(**connection_params)\n",
    "conn.autocommit = True\n",
    "\n",
    "# Execute the SQL file to define the schema\n",
    "with conn.cursor() as cursor:\n",
    "    with open(sql_file_path, \"r\") as file:\n",
    "        sql_file_content = file.read()\n",
    "        cursor.execute(sql_file_content)\n",
    "\n",
    "# Close the connection to the new database\n",
    "conn.close()"
   ]
  },
  {
   "cell_type": "markdown",
   "metadata": {},
   "source": [
    "# Creating ML Modle Task -2 Features"
   ]
  },
  {
   "cell_type": "code",
   "execution_count": null,
   "metadata": {},
   "outputs": [],
   "source": [
    "db_name = 'task-2_ML_model_features'\n",
    "sql_file_path = './ML model.sql'"
   ]
  },
  {
   "cell_type": "code",
   "execution_count": null,
   "metadata": {},
   "outputs": [],
   "source": [
    "conn = psycopg2.connect(**connection_params)\n",
    "conn.autocommit = True  # Enable autocommit to execute DDL statements\n",
    "\n",
    "# Create a new database\n",
    "with conn.cursor() as cursor:\n",
    "    create_db_query = sql.SQL(\"CREATE DATABASE {}\").format(sql.Identifier(db_name))\n",
    "    cursor.execute(create_db_query)\n",
    "\n",
    "# Close the connection to the default database\n",
    "conn.close()"
   ]
  },
  {
   "cell_type": "code",
   "execution_count": null,
   "metadata": {},
   "outputs": [],
   "source": [
    "# Connect to the newly created database\n",
    "connection_params[\"database\"] = db_name\n",
    "conn = psycopg2.connect(**connection_params)\n",
    "conn.autocommit = True\n",
    "\n",
    "# Execute the SQL file to define the schema\n",
    "with conn.cursor() as cursor:\n",
    "    with open(sql_file_path, \"r\") as file:\n",
    "        sql_file_content = file.read()\n",
    "        cursor.execute(sql_file_content)\n",
    "\n",
    "# Close the connection to the new database\n",
    "conn.close()"
   ]
  },
  {
   "cell_type": "markdown",
   "metadata": {},
   "source": [
    "# Creating all features database"
   ]
  },
  {
   "cell_type": "code",
   "execution_count": null,
   "metadata": {},
   "outputs": [],
   "source": [
    "db_name = 'Week-0_Features'\n",
    "sql_file_path = './All features schema.sql'"
   ]
  },
  {
   "cell_type": "code",
   "execution_count": null,
   "metadata": {},
   "outputs": [],
   "source": [
    "conn = psycopg2.connect(**connection_params)\n",
    "conn.autocommit = True  # Enable autocommit to execute DDL statements\n",
    "\n",
    "# Create a new database\n",
    "with conn.cursor() as cursor:\n",
    "    create_db_query = sql.SQL(\"CREATE DATABASE {}\").format(sql.Identifier(db_name))\n",
    "    cursor.execute(create_db_query)\n",
    "\n",
    "# Close the connection to the default database\n",
    "conn.close()"
   ]
  },
  {
   "cell_type": "code",
   "execution_count": null,
   "metadata": {},
   "outputs": [],
   "source": [
    "# Connect to the newly created database\n",
    "connection_params[\"database\"] = db_name\n",
    "conn = psycopg2.connect(**connection_params)\n",
    "conn.autocommit = True\n",
    "\n",
    "# Execute the SQL file to define the schema\n",
    "with conn.cursor() as cursor:\n",
    "    with open(sql_file_path, \"r\") as file:\n",
    "        sql_file_content = file.read()\n",
    "        cursor.execute(sql_file_content)\n",
    "\n",
    "# Close the connection to the new database\n",
    "conn.close()"
   ]
  }
 ],
 "metadata": {
  "kernelspec": {
   "display_name": "Python 3 (ipykernel)",
   "language": "python",
   "name": "python3"
  },
  "language_info": {
   "codemirror_mode": {
    "name": "ipython",
    "version": 3
   },
   "file_extension": ".py",
   "mimetype": "text/x-python",
   "name": "python",
   "nbconvert_exporter": "python",
   "pygments_lexer": "ipython3",
   "version": "3.11.0"
  }
 },
 "nbformat": 4,
 "nbformat_minor": 2
}
