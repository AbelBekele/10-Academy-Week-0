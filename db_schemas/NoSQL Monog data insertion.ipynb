{
 "cells": [
  {
   "cell_type": "code",
   "execution_count": 1,
   "id": "42a6205b-36a9-4661-a563-8331bde5ec33",
   "metadata": {},
   "outputs": [],
   "source": [
    "import os\n",
    "import json\n",
    "from pymongo import MongoClient\n",
    "from pymongo.errors import BulkWriteError\n",
    "from pymongo.operations import InsertOne"
   ]
  },
  {
   "cell_type": "code",
   "execution_count": 2,
   "id": "6f7bd3ed-7a31-4d04-a302-39b25683d23a",
   "metadata": {},
   "outputs": [],
   "source": [
    "os.chdir('..') "
   ]
  },
  {
   "cell_type": "code",
   "execution_count": 3,
   "id": "21a1ac72-e454-4155-ab19-725ae04feda7",
   "metadata": {},
   "outputs": [
    {
     "name": "stdout",
     "output_type": "stream",
     "text": [
      "Output File: slack_data.csv\n",
      "Path: data\\Anonymized_B6SlackExport_25Nov23\\anonymized\n",
      "Channel: data\\Anonymized_B6SlackExport_25Nov23\\anonymized\\channels.json\n",
      "Userfile: data\\Anonymized_B6SlackExport_25Nov23\\anonymized\\users.json\n"
     ]
    }
   ],
   "source": [
    "from src.config import cfg"
   ]
  },
  {
   "cell_type": "code",
   "execution_count": 4,
   "id": "cec1c727-73ea-4fed-84f4-6f166012b1fa",
   "metadata": {},
   "outputs": [],
   "source": [
    "class SlackDataDB:\n",
    "    def __init__(self) -> None:\n",
    "        self.client = MongoClient(\"mongodb://localhost:27017/\")\n",
    "        self.db = self.client[\"slack_data\"]        \n",
    "        channels_validator = {\n",
    "            \"$jsonSchema\": {\n",
    "                \"bsonType\": \"array\",\n",
    "                \"items\": {\n",
    "                    \"bsonType\": \"object\",\n",
    "                    \"required\": [\"id\", \"name\", \"created\", \"creator\", \"is_archived\", \"is_general\", \"members\", \"topic\", \"purpose\"],\n",
    "                    \"properties\": {\n",
    "                        \"id\": {\"bsonType\": \"string\"},\n",
    "                        \"name\": {\"bsonType\": \"string\"},\n",
    "                        \"created\": {\"bsonType\": \"number\"},\n",
    "                        \"creator\": {\"bsonType\": \"string\"},\n",
    "                        \"is_archived\": {\"bsonType\": \"bool\"},\n",
    "                        \"is_general\": {\"bsonType\": \"bool\"},\n",
    "                        \"members\": {\"bsonType\": \"array\"},\n",
    "                        \"topic\": {\"bsonType\": \"object\"},\n",
    "                        \"purpose\": {\"bsonType\": \"object\"},\n",
    "                    }\n",
    "                }\n",
    "            }\n",
    "            }\n",
    "\n",
    "        integration_logs_validator = {\n",
    "            \"$jsonSchema\": {\n",
    "                \"bsonType\": \"array\",\n",
    "                \"items\": {\n",
    "                    \"bsonType\": \"object\",\n",
    "                    \"required\": [\"user_id\", \"user_name\", \"date\", \"change_type\", \"app_type\", \"app_id\", \"scope\"],\n",
    "                    \"properties\": {\n",
    "                        \"user_id\": {\"bsonType\": \"string\"},\n",
    "                        \"user_name\": {\"bsonType\": \"string\"},\n",
    "                        \"date\": {\"bsonType\": \"number\"},\n",
    "                        \"change_type\": {\"bsonType\": \"string\"},\n",
    "                        \"app_type\": {\"bsonType\": \"string\"},\n",
    "                        \"app_id\": {\"bsonType\": \"string\"},\n",
    "                        \"scope\": {\"bsonType\": \"string\"},\n",
    "                    }\n",
    "                }\n",
    "            }\n",
    "        }\n",
    "        try:\n",
    "            self.db.create_collection(\"messages\")\n",
    "            self.db.create_collection(\"canvases\")\n",
    "            self.db.create_collection(\"channels\")\n",
    "            self.db.create_collection(\"integration_logs\")\n",
    "            self.db.create_collection(\"users_old_new\")\n",
    "            self.db.create_collection(\"users\")\n",
    "        except Exception as e:\n",
    "            print(e)\n",
    "\n",
    "    def create_collection_with_validation(self, collection_name, validator):\n",
    "        try:\n",
    "            self.db.create_collection(collection_name, validator=validator)\n",
    "        except Exception as e:\n",
    "            print(f\"Error creating {collection_name} collection: {e}\")\n",
    "\n",
    "    def insert_messages(self, base_path):\n",
    "        messages_by_channels = self.organize_messages_by_channels(base_path)\n",
    "        \n",
    "        if messages_by_channels:\n",
    "            for channel_id, messages in messages_by_channels.items():\n",
    "                # Insert messages into the specific channel\n",
    "                self.insert_to_collection(f\"{channel_id}\", messages)\n",
    "\n",
    "    def organize_messages_by_channels(self, base_path):\n",
    "        messages_by_channels = {}\n",
    "\n",
    "        for folder_name in os.listdir(base_path):\n",
    "            folder_path = os.path.join(base_path, folder_name)\n",
    "            if os.path.isdir(folder_path):\n",
    "                channel_id = folder_name\n",
    "                messages = self.read_messages_from_folder(folder_path)\n",
    "                messages_by_channels[channel_id] = messages\n",
    "\n",
    "        return messages_by_channels\n",
    "\n",
    "    def read_messages_from_folder(self, folder_path):\n",
    "        messages = []\n",
    "        for filename in os.listdir(folder_path):\n",
    "            if filename.endswith(\".json\"):\n",
    "                file_path = os.path.join(folder_path, filename)\n",
    "                with open(file_path, \"r\") as file:\n",
    "                    messages.extend(json.load(file))\n",
    "        return messages\n",
    "\n",
    "\n",
    "    def insert_canvases(self, canvases_path):\n",
    "        canvases_data = self.read_json_without_dict(canvases_path)\n",
    "        \n",
    "        if canvases_data:\n",
    "            # Ensure each canvas in canvases_data is a dictionary\n",
    "            for canvas in canvases_data:\n",
    "                if not isinstance(canvas, dict):\n",
    "                    return\n",
    "                \n",
    "            self.insert_to_collection(\"canvases\", canvases_data)\n",
    "\n",
    "    def insert_channels(self, channels_path):\n",
    "        channels_data = self.read_json_file(channels_path)\n",
    "        if channels_data:\n",
    "            self.insert_to_collection(\"channels\", channels_data)\n",
    "\n",
    "    def insert_integration_logs(self, integration_logs_path):\n",
    "        integration_logs_data = self.read_json_file(integration_logs_path)\n",
    "        if integration_logs_data:\n",
    "            self.insert_to_collection(\"integration_logs\", integration_logs_data)\n",
    "\n",
    "    def insert_users_old_new(self, users_old_new_path):\n",
    "        users_old_new_data = self.read_json_file(users_old_new_path)\n",
    "\n",
    "        if users_old_new_data:\n",
    "            # Ensure all values in the dictionary are dictionaries\n",
    "            valid_data = {key: value for key, value in users_old_new_data.items() if isinstance(value, dict)}\n",
    "\n",
    "            # Insert each user dictionary into the collection separately\n",
    "            for user_id, user_data in valid_data.items():\n",
    "                self.insert_to_collection(\"users_old_new\", [user_data])\n",
    "\n",
    "    def insert_users(self, users_path):\n",
    "        users_data = self.read_json_file(users_path)\n",
    "        if users_data:\n",
    "            self.insert_to_collection(\"users\", users_data)\n",
    "            \n",
    "    def read_json_file(self, file_path):\n",
    "        try:\n",
    "            with open(file_path, \"r\") as file:\n",
    "                data = json.load(file)\n",
    "            return data\n",
    "        except Exception as e:\n",
    "            print(f\"Error reading JSON file at {file_path}: {e}\")\n",
    "            return None\n",
    "    \n",
    "    def read_json_without_dict(self, file_path):\n",
    "\n",
    "        try:\n",
    "            with open(file_path, 'r') as file:\n",
    "                data = json.load(file)\n",
    "                if isinstance(data, list) and all(isinstance(item, dict) for item in data):\n",
    "                    return data\n",
    "                else:\n",
    "                    return None\n",
    "        except Exception as e:\n",
    "            return None\n",
    "\n",
    "    def insert_to_collection(self, collection_name, data):\n",
    "        collection = self.db[collection_name]\n",
    "    \n",
    "        # Use bulk write for inserts\n",
    "        requests = [InsertOne(doc) for doc in data]\n",
    "        try:\n",
    "            result = collection.bulk_write(requests, ordered=False)\n",
    "            print(f\"Inserted {result.inserted_count} documents into {collection_name}.\")\n",
    "        except BulkWriteError as bwe:\n",
    "            print(f\"Bulk write error for {collection_name}: {bwe.details}\")\n",
    "        "
   ]
  },
  {
   "cell_type": "code",
   "execution_count": 5,
   "id": "0ce03d80-5e54-4766-af0d-6413fc4341d2",
   "metadata": {},
   "outputs": [
    {
     "name": "stdout",
     "output_type": "stream",
     "text": [
      "collection messages already exists\n"
     ]
    }
   ],
   "source": [
    "slack_db = SlackDataDB()"
   ]
  },
  {
   "cell_type": "code",
   "execution_count": 6,
   "id": "d9cffa11-38b6-483d-bdf8-ac3d630c9c14",
   "metadata": {},
   "outputs": [
    {
     "name": "stdout",
     "output_type": "stream",
     "text": [
      "Inserted 573 documents into ab_test-group.\n",
      "Inserted 611 documents into adludios-challange.\n",
      "Inserted 559 documents into all-broadcast.\n",
      "Inserted 828 documents into all-career-exercises.\n",
      "Inserted 8302 documents into all-community-building.\n",
      "Inserted 25 documents into all-de-week12.\n",
      "Inserted 285 documents into all-ideas.\n",
      "Inserted 19 documents into all-ml-week12.\n",
      "Inserted 1506 documents into all-resources.\n",
      "Inserted 161 documents into all-technical-support.\n",
      "Inserted 9 documents into all-web3-week12.\n",
      "Inserted 596 documents into all-week1.\n",
      "Inserted 224 documents into all-week10.\n",
      "Inserted 291 documents into all-week11.\n",
      "Inserted 125 documents into all-week12.\n",
      "Inserted 350 documents into all-week2.\n",
      "Inserted 482 documents into all-week3.\n",
      "Inserted 371 documents into all-week4.\n",
      "Inserted 535 documents into all-week5.\n",
      "Inserted 385 documents into all-week6.\n",
      "Inserted 555 documents into all-week7.\n",
      "Inserted 137 documents into all-week8.\n",
      "Inserted 178 documents into all-week9.\n",
      "Inserted 6 documents into batch6_week4_studygroup.\n",
      "Inserted 108 documents into chang-w11.\n",
      "Inserted 39 documents into data-engineering.\n",
      "Inserted 135 documents into dsa-sql.\n",
      "Inserted 39 documents into gokada-challenge-presentation.\n",
      "Inserted 101 documents into happy-new-year-study-group.\n",
      "Inserted 958 documents into kafka_de.\n",
      "Inserted 19 documents into machine-learning.\n",
      "Inserted 715 documents into random.\n",
      "Inserted 54 documents into study-group.\n",
      "Inserted 360 documents into team-10.\n",
      "Inserted 4 documents into tenx-bot.\n",
      "Inserted 194 documents into week-11-group4.\n",
      "Inserted 80 documents into week-2-group-8.\n",
      "Inserted 5 documents into week2-group.\n",
      "Inserted 86 documents into week4-teamwork.\n"
     ]
    }
   ],
   "source": [
    "slack_db.insert_messages(cfg.path)"
   ]
  },
  {
   "cell_type": "code",
   "execution_count": 7,
   "id": "fea2b1bb-b35f-41b1-b688-1b1c79b92562",
   "metadata": {},
   "outputs": [
    {
     "name": "stdout",
     "output_type": "stream",
     "text": [
      "Inserted 39 documents into channels.\n"
     ]
    }
   ],
   "source": [
    "slack_db.insert_channels(os.path.join(cfg.path, \"channels.json\"))"
   ]
  },
  {
   "cell_type": "code",
   "execution_count": 8,
   "metadata": {},
   "outputs": [
    {
     "name": "stdout",
     "output_type": "stream",
     "text": [
      "Inserted 18 documents into integration_logs.\n"
     ]
    }
   ],
   "source": [
    "slack_db.insert_integration_logs(os.path.join(cfg.path, \"integration_logs.json\"))"
   ]
  },
  {
   "cell_type": "code",
   "execution_count": 9,
   "metadata": {},
   "outputs": [
    {
     "name": "stdout",
     "output_type": "stream",
     "text": [
      "Inserted 15 documents into canvases.\n"
     ]
    }
   ],
   "source": [
    "slack_db.insert_canvases(os.path.join(cfg.path, \"canvases.json\"))"
   ]
  },
  {
   "cell_type": "code",
   "execution_count": 10,
   "metadata": {},
   "outputs": [
    {
     "name": "stdout",
     "output_type": "stream",
     "text": [
      "Inserted 1 documents into users_old_new.\n",
      "Inserted 1 documents into users_old_new.\n",
      "Inserted 1 documents into users_old_new.\n",
      "Inserted 1 documents into users_old_new.\n",
      "Inserted 1 documents into users_old_new.\n",
      "Inserted 1 documents into users_old_new.\n",
      "Inserted 1 documents into users_old_new.\n",
      "Inserted 1 documents into users_old_new.\n",
      "Inserted 1 documents into users_old_new.\n",
      "Inserted 1 documents into users_old_new.\n",
      "Inserted 1 documents into users_old_new.\n",
      "Inserted 1 documents into users_old_new.\n",
      "Inserted 1 documents into users_old_new.\n",
      "Inserted 1 documents into users_old_new.\n",
      "Inserted 1 documents into users_old_new.\n",
      "Inserted 1 documents into users_old_new.\n",
      "Inserted 1 documents into users_old_new.\n",
      "Inserted 1 documents into users_old_new.\n",
      "Inserted 1 documents into users_old_new.\n",
      "Inserted 1 documents into users_old_new.\n",
      "Inserted 1 documents into users_old_new.\n",
      "Inserted 1 documents into users_old_new.\n",
      "Inserted 1 documents into users_old_new.\n",
      "Inserted 1 documents into users_old_new.\n",
      "Inserted 1 documents into users_old_new.\n",
      "Inserted 1 documents into users_old_new.\n",
      "Inserted 1 documents into users_old_new.\n",
      "Inserted 1 documents into users_old_new.\n",
      "Inserted 1 documents into users_old_new.\n",
      "Inserted 1 documents into users_old_new.\n",
      "Inserted 1 documents into users_old_new.\n",
      "Inserted 1 documents into users_old_new.\n",
      "Inserted 1 documents into users_old_new.\n",
      "Inserted 1 documents into users_old_new.\n",
      "Inserted 1 documents into users_old_new.\n",
      "Inserted 1 documents into users_old_new.\n",
      "Inserted 1 documents into users_old_new.\n",
      "Inserted 1 documents into users_old_new.\n",
      "Inserted 1 documents into users_old_new.\n",
      "Inserted 1 documents into users_old_new.\n",
      "Inserted 1 documents into users_old_new.\n",
      "Inserted 1 documents into users_old_new.\n",
      "Inserted 1 documents into users_old_new.\n",
      "Inserted 1 documents into users_old_new.\n",
      "Inserted 1 documents into users_old_new.\n",
      "Inserted 1 documents into users_old_new.\n",
      "Inserted 1 documents into users_old_new.\n",
      "Inserted 1 documents into users_old_new.\n",
      "Inserted 1 documents into users_old_new.\n",
      "Inserted 1 documents into users_old_new.\n",
      "Inserted 1 documents into users_old_new.\n",
      "Inserted 1 documents into users_old_new.\n",
      "Inserted 1 documents into users_old_new.\n",
      "Inserted 1 documents into users_old_new.\n",
      "Inserted 1 documents into users_old_new.\n",
      "Inserted 1 documents into users_old_new.\n",
      "Inserted 1 documents into users_old_new.\n",
      "Inserted 1 documents into users_old_new.\n",
      "Inserted 1 documents into users_old_new.\n",
      "Inserted 1 documents into users_old_new.\n",
      "Inserted 1 documents into users_old_new.\n",
      "Inserted 1 documents into users_old_new.\n",
      "Inserted 1 documents into users_old_new.\n",
      "Inserted 1 documents into users_old_new.\n",
      "Inserted 1 documents into users_old_new.\n",
      "Inserted 1 documents into users_old_new.\n",
      "Inserted 1 documents into users_old_new.\n",
      "Inserted 1 documents into users_old_new.\n",
      "Inserted 1 documents into users_old_new.\n",
      "Inserted 1 documents into users_old_new.\n",
      "Inserted 1 documents into users_old_new.\n"
     ]
    }
   ],
   "source": [
    "slack_db.insert_users_old_new(os.path.join(cfg.path, \"users_old_new.json\"))"
   ]
  },
  {
   "cell_type": "code",
   "execution_count": 11,
   "metadata": {},
   "outputs": [
    {
     "name": "stdout",
     "output_type": "stream",
     "text": [
      "Inserted 71 documents into users.\n"
     ]
    }
   ],
   "source": [
    "slack_db.insert_users(os.path.join(cfg.path, \"users.json\"))"
   ]
  }
 ],
 "metadata": {
  "kernelspec": {
   "display_name": "Python 3 (ipykernel)",
   "language": "python",
   "name": "python3"
  },
  "language_info": {
   "codemirror_mode": {
    "name": "ipython",
    "version": 3
   },
   "file_extension": ".py",
   "mimetype": "text/x-python",
   "name": "python",
   "nbconvert_exporter": "python",
   "pygments_lexer": "ipython3",
   "version": "3.11.0"
  }
 },
 "nbformat": 4,
 "nbformat_minor": 5
}
