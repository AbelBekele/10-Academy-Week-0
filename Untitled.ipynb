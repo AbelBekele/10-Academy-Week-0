{
 "cells": [
  {
   "cell_type": "code",
   "execution_count": 1,
   "id": "699aee46-93bd-4609-bb79-ac5348a33ed8",
   "metadata": {},
   "outputs": [],
   "source": [
    "from src.loader import SlackDataLoader"
   ]
  },
  {
   "cell_type": "code",
   "execution_count": 2,
   "id": "03fb393b-2446-4ce1-ac1c-dfee2980ae3b",
   "metadata": {
    "scrolled": true
   },
   "outputs": [
    {
     "name": "stdout",
     "output_type": "stream",
     "text": [
      "Output File: slack_data.csv\n",
      "Path: data\\Anonymized_B6SlackExport_25Nov23\\anonymized\n",
      "Channel: data\\Anonymized_B6SlackExport_25Nov23\\anonymized\\channels.json\n",
      "Userfile: data\\Anonymized_B6SlackExport_25Nov23\\anonymized\\users.json\n"
     ]
    }
   ],
   "source": [
    "from src.config import cfg"
   ]
  },
  {
   "cell_type": "code",
   "execution_count": 3,
   "id": "40130a8c-8d32-4e67-b1e6-004378e0deb2",
   "metadata": {},
   "outputs": [],
   "source": [
    "slack = SlackDataLoader(cfg.path)"
   ]
  },
  {
   "cell_type": "code",
   "execution_count": null,
   "id": "24a8e253-6d0d-40b0-a744-d32d7dfab96c",
   "metadata": {},
   "outputs": [],
   "source": []
  }
 ],
 "metadata": {
  "kernelspec": {
   "display_name": "Python 3 (ipykernel)",
   "language": "python",
   "name": "python3"
  },
  "language_info": {
   "codemirror_mode": {
    "name": "ipython",
    "version": 3
   },
   "file_extension": ".py",
   "mimetype": "text/x-python",
   "name": "python",
   "nbconvert_exporter": "python",
   "pygments_lexer": "ipython3",
   "version": "3.11.0"
  }
 },
 "nbformat": 4,
 "nbformat_minor": 5
}
